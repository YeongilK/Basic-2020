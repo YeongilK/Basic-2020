{
 "cells": [
  {
   "cell_type": "markdown",
   "metadata": {},
   "source": [
    "# 조건문"
   ]
  },
  {
   "cell_type": "code",
   "execution_count": 13,
   "metadata": {},
   "outputs": [
    {
     "name": "stdout",
     "output_type": "stream",
     "text": [
      "정수 입력 : -3\n",
      "-3 은/는 0 또는 음수입니다.\n"
     ]
    }
   ],
   "source": [
    "# 양수 판별\n",
    "num = int(input('정수 입력 : '))\n",
    "\n",
    "if num > 0:\n",
    "    print('%d 은/는 양수입니다.' % num)\n",
    "else:\n",
    "    print('%d 은/는 0 또는 음수입니다.' % num)"
   ]
  },
  {
   "cell_type": "code",
   "execution_count": 48,
   "metadata": {},
   "outputs": [
    {
     "name": "stdout",
     "output_type": "stream",
     "text": [
      "정수 입력 : 0\n",
      "0 입니다.\n"
     ]
    }
   ],
   "source": [
    "# 양수/0/음수 판별\n",
    "num = int(input('정수 입력 : '))\n",
    "\n",
    "if num > 0:\n",
    "    print('%d 은/는 양수입니다.' % num)\n",
    "elif num == 0:\n",
    "    print('0 입니다.')\n",
    "else:\n",
    "    print('%d 은/는 음수입니다.' % num)"
   ]
  },
  {
   "cell_type": "code",
   "execution_count": 12,
   "metadata": {},
   "outputs": [
    {
     "name": "stdout",
     "output_type": "stream",
     "text": [
      "True\n",
      "True\n",
      "True\n",
      "True\n",
      "False\n",
      "False\n",
      "False\n"
     ]
    }
   ],
   "source": [
    "# 비교연산자의 참/거짓\n",
    "x = 10\n",
    "y = 3\n",
    "\n",
    "print(x > 9)        \n",
    "print(y <= 10)\n",
    "print(x + y == 13)\n",
    "print(x % 2 == 0)    # x가 짝수인가?\n",
    "print(y % 2 == 0)    # y가 짝수인가?\n",
    "print(x % 4 == 0)    # x가 4의 배수인가?\n",
    "print(y % 3 != 0)    # y가 3의 배수가 아닌가?"
   ]
  },
  {
   "cell_type": "code",
   "execution_count": 4,
   "metadata": {},
   "outputs": [
    {
     "name": "stdout",
     "output_type": "stream",
     "text": [
      "정수 입력 : 12\n",
      "12 은/는 짝수!\n"
     ]
    }
   ],
   "source": [
    "# 짝수/홀수 판별\n",
    "num = int(input('정수 입력 : '))\n",
    "\n",
    "if num % 2 == 0:\n",
    "    print('%d 은/는 짝수!' % num)\n",
    "else:\n",
    "    print('%d 은/는 홀수!' % num)"
   ]
  },
  {
   "cell_type": "code",
   "execution_count": 22,
   "metadata": {},
   "outputs": [
    {
     "name": "stdout",
     "output_type": "stream",
     "text": [
      "필기 성적 입력 : 100\n",
      "실기 성적 입력 : 79\n",
      "필기:100 / 실기:79 / 결과:불합격ㅠㅠ\n"
     ]
    }
   ],
   "source": [
    "# 시험 합격/불합격 판정\n",
    "score1 = int(input('필기 성적 입력 : '))\n",
    "score2 = int(input('실기 성적 입력 : '))\n",
    "\n",
    "if (score1 >= 80) and (score2 >=80):\n",
    "    print('필기:%d / 실기:%d / 결과:합격!' % (score1, score2))\n",
    "else:\n",
    "    print('필기:%d / 실기:%d / 결과:불합격ㅠㅠ' % (score1, score2))"
   ]
  },
  {
   "cell_type": "code",
   "execution_count": 28,
   "metadata": {},
   "outputs": [
    {
     "name": "stdout",
     "output_type": "stream",
     "text": [
      "ID 입력 : manager\n",
      "회원 레벨 입력 : 3\n",
      "manager(level:3) 은/는 관리자입니다.\n"
     ]
    }
   ],
   "source": [
    "# 홈페이지 관리자 판별\n",
    "id = input('ID 입력 : ')\n",
    "level = int(input('회원 레벨 입력 : '))\n",
    "\n",
    "if id == 'manager' or level >= 5:\n",
    "    print('%s(level:%d) 은/는 관리자입니다.' % (id, level))\n",
    "else:\n",
    "    print('%s(level:%d) 은/는 관리자가 아닙니다.' % (id, level))"
   ]
  },
  {
   "cell_type": "code",
   "execution_count": 1,
   "metadata": {},
   "outputs": [
    {
     "name": "stdout",
     "output_type": "stream",
     "text": [
      "이름 입력 : 홍길동\n",
      "입력된 이름 : 홍길동\n"
     ]
    }
   ],
   "source": [
    "# 논리 연산자 not\n",
    "name = input('이름 입력 : ')\n",
    "\n",
    "if not name:\n",
    "    print('이름이 입력되지 않았습니다.')\n",
    "else:\n",
    "    print('입력된 이름 : %s' % name)"
   ]
  },
  {
   "cell_type": "code",
   "execution_count": 43,
   "metadata": {},
   "outputs": [
    {
     "name": "stdout",
     "output_type": "stream",
     "text": [
      "나이 입력 : 17\n",
      "입장료 : 5000원\n"
     ]
    }
   ],
   "source": [
    "# if~ 구문의 사용 예\n",
    "age = int(input('나이 입력 : '))\n",
    "pay = '5000원'\n",
    "\n",
    "if age >= 65 or age < 7:\n",
    "    pay = '무료'\n",
    "    \n",
    "print('입장료 : %s' % pay)"
   ]
  },
  {
   "cell_type": "code",
   "execution_count": 76,
   "metadata": {},
   "outputs": [
    {
     "name": "stdout",
     "output_type": "stream",
     "text": [
      "점수 입력 : 150\n",
      "점수 값을 잘못 입력했습니다.\n"
     ]
    }
   ],
   "source": [
    "# 깜짝 퀴즈\n",
    "score = int(input('점수 입력 : '))\n",
    "\n",
    "if score >= 90 and score <= 100:\n",
    "    print('점수 : %d / 등급 : A' % score)\n",
    "elif score >= 80 and score < 90:\n",
    "    print('점수 : %d / 등급 : B' % score)\n",
    "elif score >= 70 and score < 80:\n",
    "    print('점수 : %d / 등급 : C' % score)\n",
    "elif score >= 60 and score < 70:\n",
    "    print('점수 : %d / 등급 : D' % score)\n",
    "elif score >= 0 and score < 60:\n",
    "    print('점수 : %d / 등급 : F' % score)\n",
    "else:\n",
    "    print('점수 값을 잘못 입력했습니다.')"
   ]
  },
  {
   "cell_type": "code",
   "execution_count": 95,
   "metadata": {},
   "outputs": [
    {
     "name": "stdout",
     "output_type": "stream",
     "text": [
      "세개의 정수 입력 : 100 200 300\n",
      "합 : 600 / 평균 : 200.00\n"
     ]
    }
   ],
   "source": [
    "# 세 수의 합과 평균 구하기\n",
    "\n",
    "x, y, z = map(int, input('세개의 정수 입력 : ').split())\n",
    "# 세 수 한꺼번에 입력받아 저장하기\n",
    "\n",
    "sum = x + y + z\n",
    "avg = sum / 3\n",
    "print('합 : %d / 평균 : %.2f' % (sum, avg))"
   ]
  },
  {
   "cell_type": "code",
   "execution_count": 121,
   "metadata": {},
   "outputs": [
    {
     "name": "stdout",
     "output_type": "stream",
     "text": [
      "현재 년월일 입력 : (년월일은 .으로 구분)2020.8.28\n",
      "출생 년월일 입력 : (년월일은 .으로 구분)1994.8.27\n"
     ]
    }
   ],
   "source": [
    "# if문으로 만 나이 계산하기\n",
    "now_year, now_month, now_day = map(int, input('현재 년월일 입력 : (년월일은 .으로 구분)').split('.'))\n",
    "birth_year, birth_month, birth_day = map(int, input('출생 년월일 입력 : (년월일은 .으로 구분)').split('.'))"
   ]
  },
  {
   "cell_type": "code",
   "execution_count": 126,
   "metadata": {},
   "outputs": [
    {
     "name": "stdout",
     "output_type": "stream",
     "text": [
      "현재날짜 : 2020-8-28\n",
      "출생날짜 : 1994-8-27\n",
      "사용자의 나이 : 만 26세\n"
     ]
    }
   ],
   "source": [
    "# 좋지 않은 코드\n",
    "if now_month > birth_month:\n",
    "    age = now_year - birth_year\n",
    "elif now_month < birth_month:\n",
    "    age = now_year - birth_year - 1\n",
    "elif now_day < birth_day:\n",
    "    age = now_year - birth_year - 1\n",
    "else:\n",
    "    age = now_year - birth_year\n",
    "    \n",
    "print('현재날짜 : %d-%d-%d' % (now_year, now_month, now_day))\n",
    "print('출생날짜 : %d-%d-%d' % (birth_year, birth_month, birth_day))\n",
    "    \n",
    "print('사용자의 나이 : 만 %d세' % age)"
   ]
  },
  {
   "cell_type": "code",
   "execution_count": 127,
   "metadata": {},
   "outputs": [
    {
     "name": "stdout",
     "output_type": "stream",
     "text": [
      "현재날짜 : 2020-8-28\n",
      "출생날짜 : 1994-8-27\n",
      "사용자의 나이 : 만 26세\n"
     ]
    }
   ],
   "source": [
    "# 좋은 코드\n",
    "if now_month > birth_month:                     # 현재월 > 생월(생일 지남)\n",
    "    age = now_year - birth_year    \n",
    "elif now_month < birth_month:                   # 현재월 < 생월(생일 안지남)\n",
    "    age = now_year - birth_year - 1\n",
    "else:                                           # 현재월 = 생월\n",
    "    if now_day < birth_day:                       # 현재일 < 생일(생일 안지남)\n",
    "        age = now_year - birth_year - 1   \n",
    "    else:                                         # 현재일 >= 생일(생일 지남)\n",
    "        age = now_year - birth_year\n",
    "    \n",
    "print('현재날짜 : %d-%d-%d' % (now_year, now_month, now_day))\n",
    "print('출생날짜 : %d-%d-%d' % (birth_year, birth_month, birth_day))\n",
    "    \n",
    "print('사용자의 나이 : 만 %d세' % age)"
   ]
  },
  {
   "cell_type": "code",
   "execution_count": 128,
   "metadata": {},
   "outputs": [
    {
     "data": {
      "text/plain": [
       "datetime.datetime(2020, 8, 28, 11, 16, 14, 884686)"
      ]
     },
     "execution_count": 128,
     "metadata": {},
     "output_type": "execute_result"
    }
   ],
   "source": [
    "# 파이썬의 datetime 모듈 활용\n",
    "import datetime\n",
    "datetime.datetime.now()"
   ]
  },
  {
   "cell_type": "code",
   "execution_count": 130,
   "metadata": {},
   "outputs": [
    {
     "name": "stdout",
     "output_type": "stream",
     "text": [
      "현재 날짜 : 2020-8-28\n"
     ]
    }
   ],
   "source": [
    "# datetime 모듈 이용, 현재 날짜 출력\n",
    "current_year = datetime.datetime.now().year\n",
    "current_month = datetime.datetime.now().month\n",
    "current_day = datetime.datetime.now().day\n",
    "\n",
    "print('현재 날짜 : %d-%d-%d' % (current_year, current_month, current_day))"
   ]
  },
  {
   "cell_type": "code",
   "execution_count": 4,
   "metadata": {},
   "outputs": [
    {
     "name": "stdout",
     "output_type": "stream",
     "text": [
      "생년월일입력(6자리숫자) : 941228\n",
      "생년월일 : 1994-12-28\n"
     ]
    }
   ],
   "source": [
    "# 생년월일 6자리 숫자로 받아서 처리하기\n",
    "birthday = input('생년월일입력(6자리숫자) : ')\n",
    "\n",
    "b_year = int(birthday[:2])\n",
    "b_month = int(birthday[2:4])\n",
    "b_day = int(birthday[4:])\n",
    "\n",
    "if b_year <= 20:\n",
    "    b_year += 2000\n",
    "else:\n",
    "    b_year += 1900\n",
    "    \n",
    "print('생년월일 : %d-%d-%d' % (b_year, b_month, b_day))"
   ]
  },
  {
   "cell_type": "code",
   "execution_count": 2,
   "metadata": {},
   "outputs": [
    {
     "name": "stdout",
     "output_type": "stream",
     "text": [
      "생년월일입력(6, 7, 8자리 숫자) : 0008273\n",
      "생년월일 : 2000-8-27\n"
     ]
    }
   ],
   "source": [
    "# 생일 임의의 연속된 숫자로 받아서 처리하기\n",
    "birthday = input('생년월일입력(6, 7, 8자리 숫자) : ')\n",
    "\n",
    "if len(birthday) == 6:\n",
    "    b_year = int(birthday[:2])\n",
    "    b_month = int(birthday[2:4])\n",
    "    b_day = int(birthday[4:])\n",
    "    if b_year <= 20:\n",
    "        b_year += 2000\n",
    "    else:\n",
    "        b_year += 1900\n",
    "\n",
    "elif len(birthday) == 7:\n",
    "    b_year = int(birthday[:2])\n",
    "    b_month = int(birthday[2:4])\n",
    "    b_day = int(birthday[4:6])\n",
    "    if int(birthday[-1]) > 2:\n",
    "        b_year += 2000\n",
    "    else:\n",
    "        b_year += 1900\n",
    "        \n",
    "elif len(birthday) == 8:\n",
    "    b_year = int(birthday[:4])\n",
    "    b_month = int(birthday[4:6])\n",
    "    b_day = int(birthday[6:])\n",
    "    \n",
    "else:\n",
    "    print('오류! 6 ~ 8자리 숫자를 입력하세요.')\n",
    "\n",
    "print('생년월일 : %d-%d-%d' % (b_year, b_month, b_day))"
   ]
  },
  {
   "cell_type": "code",
   "execution_count": 1,
   "metadata": {},
   "outputs": [
    {
     "name": "stdout",
     "output_type": "stream",
     "text": [
      "월 입력 : 8\n",
      "8월은 여름입니다.\n"
     ]
    }
   ],
   "source": [
    "# 월을 입력받아 계절표시하기\n",
    "month = int(input('월 입력 : '))\n",
    "if month >=3 and month <= 5:\n",
    "    print('%d월은 봄입니다.' % month)\n",
    "elif month >=6 and month <= 8:\n",
    "    print('%d월은 여름입니다.' % month)\n",
    "elif month >=9 and month <= 11:\n",
    "    print('%d월은 가을입니다.' % month)\n",
    "else:\n",
    "    print('%d월은 겨울입니다.' % month)"
   ]
  },
  {
   "cell_type": "code",
   "execution_count": null,
   "metadata": {},
   "outputs": [],
   "source": []
  }
 ],
 "metadata": {
  "kernelspec": {
   "display_name": "Python 3",
   "language": "python",
   "name": "python3"
  },
  "language_info": {
   "codemirror_mode": {
    "name": "ipython",
    "version": 3
   },
   "file_extension": ".py",
   "mimetype": "text/x-python",
   "name": "python",
   "nbconvert_exporter": "python",
   "pygments_lexer": "ipython3",
   "version": "3.8.3"
  }
 },
 "nbformat": 4,
 "nbformat_minor": 4
}
