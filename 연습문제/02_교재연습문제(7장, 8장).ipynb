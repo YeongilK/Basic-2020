{
 "cells": [
  {
   "cell_type": "markdown",
   "metadata": {},
   "source": [
    "# 7장. 튜플과 리스트"
   ]
  },
  {
   "cell_type": "markdown",
   "metadata": {},
   "source": [
    "### 연습문제"
   ]
  },
  {
   "cell_type": "markdown",
   "metadata": {},
   "source": [
    "#### 7.1) 출생년도 리스트 만들기"
   ]
  },
  {
   "cell_type": "code",
   "execution_count": 1,
   "metadata": {},
   "outputs": [
    {
     "name": "stdout",
     "output_type": "stream",
     "text": [
      "당신의 출생년도를 입력하세요> 1994\n",
      "[1994, 1995, 1996, 1997, 1998, 1999]\n"
     ]
    }
   ],
   "source": [
    "birth_year = int(input('당신의 출생년도를 입력하세요> '))\n",
    "year_list = []\n",
    "for i in range(6):\n",
    "    year_list.append(birth_year)\n",
    "    birth_year += 1\n",
    "print(year_list)"
   ]
  },
  {
   "cell_type": "markdown",
   "metadata": {},
   "source": [
    "#### 7.2) year_list의 세 번째 생일은 몇 년도인가? (단, 첫 해는 0살)"
   ]
  },
  {
   "cell_type": "code",
   "execution_count": 2,
   "metadata": {},
   "outputs": [
    {
     "name": "stdout",
     "output_type": "stream",
     "text": [
      "세 번째 생일은 1997년 입니다\n"
     ]
    }
   ],
   "source": [
    "print(f'세 번째 생일은 {year_list[3]}년 입니다')"
   ]
  },
  {
   "cell_type": "markdown",
   "metadata": {},
   "source": [
    "#### 7.3) year_list 중 가장 나이가 많을 때는 몇 년도인가?"
   ]
  },
  {
   "cell_type": "code",
   "execution_count": 3,
   "metadata": {},
   "outputs": [
    {
     "name": "stdout",
     "output_type": "stream",
     "text": [
      "1999년 입니다\n"
     ]
    }
   ],
   "source": [
    "print(f'{year_list[5]}년 입니다')"
   ]
  },
  {
   "cell_type": "markdown",
   "metadata": {},
   "source": [
    "#### 7.4) 세 문자열을 요소로 갖는 things 리스트 만들기"
   ]
  },
  {
   "cell_type": "code",
   "execution_count": 4,
   "metadata": {},
   "outputs": [
    {
     "name": "stdout",
     "output_type": "stream",
     "text": [
      "리스트 things: ['mozzarella', 'cinderella', 'salmonella']\n"
     ]
    }
   ],
   "source": [
    "things = ['mozzarella', 'cinderella', 'salmonella']\n",
    "print(f'리스트 things: {things}')"
   ]
  },
  {
   "cell_type": "markdown",
   "metadata": {},
   "source": [
    "#### 7.5) 위의 리스트에서  사람 이름의 첫 글자를 대문자로 바꿔서 출력"
   ]
  },
  {
   "cell_type": "code",
   "execution_count": 5,
   "metadata": {
    "scrolled": true
   },
   "outputs": [
    {
     "name": "stdout",
     "output_type": "stream",
     "text": [
      "첫 글자가 대문자로 바뀐 사람 이름: Cinderella\n",
      "리스트 things: ['mozzarella', 'cinderella', 'salmonella']\n"
     ]
    }
   ],
   "source": [
    "# 리스트의 요소는 변경되지 않습니다\n",
    "things[1].capitalize()\n",
    "print(f'첫 글자가 대문자로 바뀐 사람 이름: {things[1].capitalize()}')\n",
    "print(f'리스트 things: {things}')"
   ]
  },
  {
   "cell_type": "markdown",
   "metadata": {},
   "source": [
    "#### 7.6) 치즈 요소를 모두 대문자로 바꿔서 리스트 출력"
   ]
  },
  {
   "cell_type": "code",
   "execution_count": 6,
   "metadata": {},
   "outputs": [
    {
     "name": "stdout",
     "output_type": "stream",
     "text": [
      "리스트 things: ['MOZZARELLA', 'cinderella', 'salmonella']\n"
     ]
    }
   ],
   "source": [
    "things[0] = things[0].upper()\n",
    "print(f'리스트 things: {things}')"
   ]
  },
  {
   "cell_type": "markdown",
   "metadata": {},
   "source": [
    "#### 7.7) 질병 요소가 있다면 제거한 뒤 리스트 출력"
   ]
  },
  {
   "cell_type": "code",
   "execution_count": 7,
   "metadata": {},
   "outputs": [
    {
     "name": "stdout",
     "output_type": "stream",
     "text": [
      "제거한 질병 요소: salmonella\n",
      "리스트 things: ['MOZZARELLA', 'cinderella']\n"
     ]
    }
   ],
   "source": [
    "disease = things.pop()\n",
    "print(f'제거한 질병 요소: {disease}\\n리스트 things: {things}')"
   ]
  },
  {
   "cell_type": "markdown",
   "metadata": {},
   "source": [
    "#### 7.8) 세 문자열을 요소로 갖는 surprise 리스트 만들기"
   ]
  },
  {
   "cell_type": "code",
   "execution_count": 8,
   "metadata": {},
   "outputs": [
    {
     "name": "stdout",
     "output_type": "stream",
     "text": [
      "리스트 surprise: ['Groucho', 'Chico', 'Harpo']\n"
     ]
    }
   ],
   "source": [
    "surprise = ['Groucho', 'Chico', 'Harpo']\n",
    "print(f'리스트 surprise: {surprise}')"
   ]
  },
  {
   "cell_type": "markdown",
   "metadata": {},
   "source": [
    "#### 7.9) surprise 리스트의 마지막 요소를 소문자로 변경하고, 단어를 뒤집은 다음에 첫 글자를 대문자로 바꿔서 출력"
   ]
  },
  {
   "cell_type": "code",
   "execution_count": 9,
   "metadata": {},
   "outputs": [
    {
     "name": "stdout",
     "output_type": "stream",
     "text": [
      "리스트 surprise: ['Groucho', 'Chico', 'Oprah']\n"
     ]
    }
   ],
   "source": [
    "tmp = surprise[-1].lower()\n",
    "tmp = tmp[::-1].capitalize()\n",
    "surprise[-1] = tmp\n",
    "print(f'리스트 surprise: {surprise}')"
   ]
  },
  {
   "cell_type": "markdown",
   "metadata": {},
   "source": [
    "#### 7.10) List Comprehension 을 이용하여 range(10)에서 짝수 리스트를 만들기"
   ]
  },
  {
   "cell_type": "code",
   "execution_count": 10,
   "metadata": {
    "scrolled": true
   },
   "outputs": [
    {
     "name": "stdout",
     "output_type": "stream",
     "text": [
      "[0, 2, 4, 6, 8]\n"
     ]
    }
   ],
   "source": [
    "mylist = [i for i in range(10) if i % 2 == 0]\n",
    "print(mylist)"
   ]
  },
  {
   "cell_type": "markdown",
   "metadata": {},
   "source": [
    "#### 7.11) 줄넘기 랩 음악 만들기"
   ]
  },
  {
   "cell_type": "code",
   "execution_count": 11,
   "metadata": {},
   "outputs": [
    {
     "name": "stdout",
     "output_type": "stream",
     "text": [
      "Fee! Fie! Foe! Flop!\n",
      "Someone better get a mop.\n",
      "\n",
      "Fee! Fie! Foe! Fope!\n",
      "Someone better turn the rope.\n",
      "\n",
      "Fee! Fie! Foe! Fudge!\n",
      "Someone better call the judge.\n",
      "\n",
      "Fee! Fie! Foe! Fat!\n",
      "Someone better pet the cat.\n",
      "\n",
      "Fee! Fie! Foe! Fog!\n",
      "Someone better walk the dog.\n",
      "\n",
      "Fee! Fie! Foe! Fun!\n",
      "Someone better say we're done.\n",
      "\n"
     ]
    }
   ],
   "source": [
    "star1 = [\"fee\", \"fie\", \"foe\"]\n",
    "rhymes = [\n",
    "    (\"flop\", \"get a mop\"),\n",
    "    (\"fope\", \"turn the rope\"),\n",
    "    (\"fudge\", \"call the judge\"),\n",
    "    (\"fat\", \"pet the cat\"),\n",
    "    (\"fog\", \"walk the dog\"),\n",
    "    (\"fun\", \"say we're done\")\n",
    "]\n",
    "star2 = \"Someone better\"\n",
    "head = \" \".join([i.capitalize() + '!' for i in star1])\n",
    "for first, second in rhymes:\n",
    "    print(f'{head} {first.capitalize()}!\\n{star2} {second}.\\n')"
   ]
  },
  {
   "cell_type": "markdown",
   "metadata": {},
   "source": [
    "# 8장. 딕셔너리와 세트"
   ]
  },
  {
   "cell_type": "markdown",
   "metadata": {},
   "source": [
    "### 연습문제"
   ]
  },
  {
   "cell_type": "markdown",
   "metadata": {},
   "source": [
    "#### 8.1) e2f 딕셔너리를 만들어 출력"
   ]
  },
  {
   "cell_type": "code",
   "execution_count": 12,
   "metadata": {},
   "outputs": [
    {
     "name": "stdout",
     "output_type": "stream",
     "text": [
      "영어를 입력하세요> dog cat walrus\n",
      "프랑스어를 입력하세요> chien chat morse\n",
      "딕셔너리 e2f: {'dog': 'chien', 'cat': 'chat', 'walrus': 'morse'}\n"
     ]
    }
   ],
   "source": [
    "eng = input('영어를 입력하세요> ').split()\n",
    "fra = input('프랑스어를 입력하세요> ').split()\n",
    "e2f = dict(zip(eng, fra))\n",
    "print(f'딕셔너리 e2f: {e2f}')"
   ]
  },
  {
   "cell_type": "markdown",
   "metadata": {},
   "source": [
    "#### 8.2) e2f 딕셔너리에서 영어 walrus를 프랑스어로 출력"
   ]
  },
  {
   "cell_type": "code",
   "execution_count": 13,
   "metadata": {},
   "outputs": [
    {
     "name": "stdout",
     "output_type": "stream",
     "text": [
      "영어: walrus -> 프랑스어: morse\n"
     ]
    }
   ],
   "source": [
    "print(f\"영어: walrus -> 프랑스어: {e2f['walrus']}\")"
   ]
  },
  {
   "cell_type": "markdown",
   "metadata": {},
   "source": [
    "#### 8.3) e2f 딕셔너리에서 f2e 딕셔너리라는 영어-프랑스어 사전을 만들기"
   ]
  },
  {
   "cell_type": "code",
   "execution_count": 14,
   "metadata": {},
   "outputs": [
    {
     "name": "stdout",
     "output_type": "stream",
     "text": [
      "딕셔너리 f2e: {'chien': 'dog', 'chat': 'cat', 'morse': 'walrus'}\n"
     ]
    }
   ],
   "source": [
    "f2e = {value: key for key, value in e2f.items()}\n",
    "print(f'딕셔너리 f2e: {f2e}')"
   ]
  },
  {
   "cell_type": "markdown",
   "metadata": {},
   "source": [
    "#### 8.4) e2f 딕셔너리를 사용해서 프랑스어 chien을 영어로 출력"
   ]
  },
  {
   "cell_type": "code",
   "execution_count": 15,
   "metadata": {},
   "outputs": [
    {
     "data": {
      "text/plain": [
       "'dog'"
      ]
     },
     "execution_count": 15,
     "metadata": {},
     "output_type": "execute_result"
    }
   ],
   "source": [
    "f2e['chien']"
   ]
  },
  {
   "cell_type": "markdown",
   "metadata": {},
   "source": [
    "#### 8.5) e2f 딕셔너리의 영어 단어 키들을 출력"
   ]
  },
  {
   "cell_type": "code",
   "execution_count": 16,
   "metadata": {},
   "outputs": [
    {
     "name": "stdout",
     "output_type": "stream",
     "text": [
      "dog  cat  walrus  "
     ]
    }
   ],
   "source": [
    "for i in e2f:\n",
    "    print(i, end=\"  \")"
   ]
  },
  {
   "cell_type": "markdown",
   "metadata": {},
   "source": [
    "#### 8.6) 2차원 딕셔너리 life 만들기"
   ]
  },
  {
   "cell_type": "code",
   "execution_count": 17,
   "metadata": {},
   "outputs": [
    {
     "name": "stdout",
     "output_type": "stream",
     "text": [
      "animals\n",
      "\tcats:\tHenri\n",
      "\toctopi:\tGrumpy\n",
      "\temus:\tLucy\n",
      "plants\n",
      "other\n"
     ]
    }
   ],
   "source": [
    "life = {\n",
    "    'animals': {\n",
    "        'cats': 'Henri',\n",
    "        'octopi': 'Grumpy',\n",
    "        'emus': 'Lucy'\n",
    "    },\n",
    "    'plants': {},\n",
    "    'other': {}\n",
    "}\n",
    "for outer_key, outer_value in life.items():\n",
    "    print(outer_key)\n",
    "    for inner_key, inner_value in outer_value.items():\n",
    "        print(f'\\t{inner_key}:\\t{inner_value}')"
   ]
  },
  {
   "cell_type": "markdown",
   "metadata": {},
   "source": [
    "#### 8.7) life 딕셔너리의 최상위 키 출력"
   ]
  },
  {
   "cell_type": "code",
   "execution_count": 18,
   "metadata": {},
   "outputs": [
    {
     "name": "stdout",
     "output_type": "stream",
     "text": [
      "['animals', 'plants', 'other']\n"
     ]
    }
   ],
   "source": [
    "print(list(life.keys()))"
   ]
  },
  {
   "cell_type": "markdown",
   "metadata": {},
   "source": [
    "#### 8.8) life['animals']의 모든 키 출력"
   ]
  },
  {
   "cell_type": "code",
   "execution_count": 19,
   "metadata": {},
   "outputs": [
    {
     "name": "stdout",
     "output_type": "stream",
     "text": [
      "['cats', 'octopi', 'emus']\n"
     ]
    }
   ],
   "source": [
    "print(list(life['animals'].keys()))"
   ]
  },
  {
   "cell_type": "markdown",
   "metadata": {},
   "source": [
    "#### 8.9) life['animals']['cats']의 모든 값 출력"
   ]
  },
  {
   "cell_type": "code",
   "execution_count": 20,
   "metadata": {},
   "outputs": [
    {
     "name": "stdout",
     "output_type": "stream",
     "text": [
      "['Henri', 'Grumpy', 'Lucy']\n"
     ]
    }
   ],
   "source": [
    "print(list(life['animals'].values()))"
   ]
  },
  {
   "cell_type": "markdown",
   "metadata": {},
   "source": [
    "#### 8.10) 딕셔너리 표현식으로 squares 딕셔너리 생성"
   ]
  },
  {
   "cell_type": "code",
   "execution_count": 21,
   "metadata": {},
   "outputs": [
    {
     "name": "stdout",
     "output_type": "stream",
     "text": [
      "{0: 0, 1: 1, 2: 4, 3: 9, 4: 16, 5: 25, 6: 36, 7: 49, 8: 64, 9: 81}\n"
     ]
    }
   ],
   "source": [
    "squares = {key: key*key for key in range(10)}\n",
    "print(squares)"
   ]
  },
  {
   "cell_type": "markdown",
   "metadata": {},
   "source": [
    "#### 8.11) 세트 표현식으로 홀수 셋 만들기"
   ]
  },
  {
   "cell_type": "code",
   "execution_count": 22,
   "metadata": {},
   "outputs": [
    {
     "name": "stdout",
     "output_type": "stream",
     "text": [
      "{1, 3, 5, 7, 9}\n"
     ]
    }
   ],
   "source": [
    "set_odd = {i for i in range(10) if i % 2 != 0}\n",
    "print(set_odd)"
   ]
  },
  {
   "cell_type": "markdown",
   "metadata": {},
   "source": [
    "#### 8.12) 제너레이터 컴프리헨션을 이용하여 각 숫자 반환"
   ]
  },
  {
   "cell_type": "code",
   "execution_count": 23,
   "metadata": {},
   "outputs": [
    {
     "name": "stdout",
     "output_type": "stream",
     "text": [
      "Got 0\n",
      "Got 1\n",
      "Got 2\n",
      "Got 3\n",
      "Got 4\n",
      "Got 5\n",
      "Got 6\n",
      "Got 7\n",
      "Got 8\n",
      "Got 9\n"
     ]
    }
   ],
   "source": [
    "for i in ('Got %s' % i for i in range(10)):\n",
    "    print(i)"
   ]
  },
  {
   "cell_type": "markdown",
   "metadata": {},
   "source": [
    "#### 8.13) zip()을 사용해서 딕셔너리 생성"
   ]
  },
  {
   "cell_type": "code",
   "execution_count": 24,
   "metadata": {},
   "outputs": [
    {
     "name": "stdout",
     "output_type": "stream",
     "text": [
      "optimist: The glass is half full\n",
      "pessimist: The glass is half empty\n",
      "troll: How did you get a glass?\n"
     ]
    }
   ],
   "source": [
    "keys = ('optimist', 'pessimist', 'troll')\n",
    "values = (\n",
    "    'The glass is half full', \n",
    "    'The glass is half empty',\n",
    "    'How did you get a glass?'\n",
    ")\n",
    "mydict = dict(zip(keys, values))\n",
    "for key, value in mydict.items():\n",
    "    print(f'{key}: {value}')"
   ]
  },
  {
   "cell_type": "markdown",
   "metadata": {},
   "source": [
    "#### 8.14) zip()을 사용해서 두 리스트를 짝으로 하는 movies 딕셔너리 생성"
   ]
  },
  {
   "cell_type": "code",
   "execution_count": 25,
   "metadata": {},
   "outputs": [
    {
     "name": "stdout",
     "output_type": "stream",
     "text": [
      "Creature of Habit: A nun turns into a mon ster\n",
      "Crewel Fate: A haunted yarn shop\n"
     ]
    }
   ],
   "source": [
    "titles = ['Creature of Habit', 'Crewel Fate']\n",
    "plots = ['A nun turns into a mon ster', 'A haunted yarn shop']\n",
    "movies = dict(zip(titles, plots))\n",
    "for key, value in movies.items():\n",
    "    print(f'{key}: {value}')"
   ]
  }
 ],
 "metadata": {
  "kernelspec": {
   "display_name": "Python 3",
   "language": "python",
   "name": "python3"
  },
  "language_info": {
   "codemirror_mode": {
    "name": "ipython",
    "version": 3
   },
   "file_extension": ".py",
   "mimetype": "text/x-python",
   "name": "python",
   "nbconvert_exporter": "python",
   "pygments_lexer": "ipython3",
   "version": "3.8.3"
  }
 },
 "nbformat": 4,
 "nbformat_minor": 4
}
