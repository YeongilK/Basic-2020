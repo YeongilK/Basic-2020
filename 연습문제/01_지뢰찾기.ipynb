{
 "cells": [
  {
   "cell_type": "markdown",
   "metadata": {},
   "source": [
    "# 지뢰 찾기"
   ]
  },
  {
   "cell_type": "code",
   "execution_count": 1,
   "metadata": {},
   "outputs": [],
   "source": [
    "import random as rd"
   ]
  },
  {
   "cell_type": "markdown",
   "metadata": {},
   "source": [
    "### 1) 지뢰판 만들기 (9x9)"
   ]
  },
  {
   "cell_type": "code",
   "execution_count": 2,
   "metadata": {},
   "outputs": [
    {
     "name": "stdout",
     "output_type": "stream",
     "text": [
      "• • • • • • • ⁕ • \n",
      "• ⁕ • • • • • • • \n",
      "⁕ • • • • • ⁕ ⁕ ⁕ \n",
      "⁕ • • ⁕ • • • • • \n",
      "• • • • ⁕ • • • • \n",
      "• ⁕ • ⁕ • ⁕ ⁕ • • \n",
      "• ⁕ • • ⁕ • • • ⁕ \n",
      "• • • • • • ⁕ • • \n",
      "• • ⁕ ⁕ ⁕ ⁕ • • • \n"
     ]
    }
   ],
   "source": [
    "icon = ['⁕', '•', '•', '•']\n",
    "matrix = [[rd.choice(icon) for row in range(9)] for col in range(9)]\n",
    "\n",
    "for i in range(9):\n",
    "    for k in range(9):\n",
    "        print(matrix[i][k], end=' ')\n",
    "    print()"
   ]
  },
  {
   "cell_type": "markdown",
   "metadata": {},
   "source": [
    "### 2) • 을 숫자로 바꾸어서 출력"
   ]
  },
  {
   "cell_type": "code",
   "execution_count": 3,
   "metadata": {
    "scrolled": true
   },
   "outputs": [
    {
     "name": "stdout",
     "output_type": "stream",
     "text": [
      "\n",
      "\n",
      "0   1   ⁕   2   1   0   0   1   ⁕   \n",
      "\n",
      "0   1   2   ⁕   1   0   1   2   3   \n",
      "\n",
      "1   2   3   2   1   1   2   ⁕   2   \n",
      "\n",
      "2   ⁕   ⁕   1   1   3   ⁕   3   1   \n",
      "\n",
      "2   ⁕   4   2   1   ⁕   ⁕   3   1   \n",
      "\n",
      "2   3   ⁕   1   2   3   3   2   ⁕   \n",
      "\n",
      "1   ⁕   2   2   3   ⁕   2   1   2   \n",
      "\n",
      "2   3   3   2   ⁕   ⁕   3   1   1   \n",
      "\n",
      "2   ⁕   ⁕   2   2   3   ⁕   2   2   \n",
      "\n",
      "\n",
      "\n"
     ]
    }
   ],
   "source": [
    "icon = ['⁕', '•', '•', '•']\n",
    "matrix = [[rd.choice(icon) for row in range(11)] for col in range(11)]\n",
    "\n",
    "for row in range(11):           # row : 행, 세로\n",
    "    for col in range(11):       # col : 열, 가로\n",
    "        \n",
    "        if row == 0 or row == 10 or col == 0 or col == 10:\n",
    "            matrix[row][col] = '•'\n",
    "        else:\n",
    "            if matrix[row][col] == '•':\n",
    "                cnt = 0\n",
    "                for i in range(3):\n",
    "                    if matrix[row-1][col-1 + i] == '⁕':\n",
    "                        cnt += 1\n",
    "                    if matrix[row+1][col-1 + i] == '⁕':\n",
    "                        cnt += 1\n",
    "                if matrix[row][col-1] == '⁕':\n",
    "                    cnt += 1\n",
    "                if matrix[row][col+1] == '⁕':\n",
    "                    cnt += 1\n",
    "                matrix[row][col] = cnt\n",
    "        \n",
    "            print(matrix[row][col], end='   ')\n",
    "    print()\n",
    "    print()"
   ]
  }
 ],
 "metadata": {
  "kernelspec": {
   "display_name": "Python 3",
   "language": "python",
   "name": "python3"
  },
  "language_info": {
   "codemirror_mode": {
    "name": "ipython",
    "version": 3
   },
   "file_extension": ".py",
   "mimetype": "text/x-python",
   "name": "python",
   "nbconvert_exporter": "python",
   "pygments_lexer": "ipython3",
   "version": "3.8.3"
  }
 },
 "nbformat": 4,
 "nbformat_minor": 4
}
