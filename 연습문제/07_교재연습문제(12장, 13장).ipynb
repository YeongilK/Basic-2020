{
 "metadata": {
  "language_info": {
   "codemirror_mode": {
    "name": "ipython",
    "version": 3
   },
   "file_extension": ".py",
   "mimetype": "text/x-python",
   "name": "python",
   "nbconvert_exporter": "python",
   "pygments_lexer": "ipython3",
   "version": "3.8.3-final"
  },
  "orig_nbformat": 2,
  "kernelspec": {
   "name": "Python 3.8.3 64-bit ('base': conda)",
   "display_name": "Python 3.8.3 64-bit ('base': conda)",
   "metadata": {
    "interpreter": {
     "hash": "b3ba2566441a7c06988d0923437866b63cedc61552a5af99d1f4fb67d367b25f"
    }
   }
  }
 },
 "nbformat": 4,
 "nbformat_minor": 2,
 "cells": [
  {
   "cell_type": "markdown",
   "metadata": {},
   "source": [
    "# 12장. 데이터 길들이기"
   ]
  },
  {
   "cell_type": "markdown",
   "metadata": {},
   "source": [
    "### 연습문제"
   ]
  },
  {
   "cell_type": "markdown",
   "metadata": {},
   "source": [
    "#### 12.4) mammoth.txt에 정규 표현식을 적용해보자. mammoth 변수에 시를 할당"
   ]
  },
  {
   "cell_type": "code",
   "execution_count": 1,
   "metadata": {},
   "outputs": [],
   "source": [
    "mammoth = '''\n",
    "We have seen the Queen of cheese,\n",
    "Laying quietly at your ease,\n",
    "Gently fanned by evening breeze,\n",
    "Thy fair form no flies dare seize.\n",
    "\n",
    "All gaily dressed soon you'll go\n",
    "To the great Provincial Show,\n",
    "To be admired by many a beau\n",
    "In the city of Toronto.\n",
    "\n",
    "Cows numerous as a swarm of bees,\n",
    "Or as the leaves upon the trees,\n",
    "It did require to make thee please,\n",
    "And stand unrivalled Queen of Cheese.\n",
    "\n",
    "May you not receive a scar as\n",
    "We have heard that Mr. Harris\n",
    "Intends to send you off as far as\n",
    "The great World's show at Paris.\n",
    "\n",
    "Of the youth beware of these,\n",
    "For some of them might rudely squeeze\n",
    "And bite your cheek, then songs or glees\n",
    "We could not sing, oh! queen of cheese.\n",
    "\n",
    "We'rt thou suspended from baloon,\n",
    "You'd cast a shade, even at noon,\n",
    "Folks would think it was the moon\n",
    "About to fall and crush them soon.\n",
    "'''"
   ]
  },
  {
   "cell_type": "markdown",
   "metadata": {},
   "source": [
    "#### 12.5) c로 시작하는 단어 모두 찾기"
   ]
  },
  {
   "cell_type": "code",
   "execution_count": 4,
   "metadata": {},
   "outputs": [
    {
     "output_type": "stream",
     "name": "stdout",
     "text": [
      "c로 시작하는 단어: ['cheese', 'city', 'cheek', 'could', 'cheese', 'cast', 'crush']\n"
     ]
    }
   ],
   "source": [
    "import re\n",
    "c_word = re.findall(r'\\b[c]\\w+', mammoth)\n",
    "print(f'c로 시작하는 단어: {c_word}')"
   ]
  },
  {
   "cell_type": "markdown",
   "metadata": {},
   "source": [
    "#### 12.6) c로 시작하는 네 글자의 단어 모두 찾기"
   ]
  },
  {
   "cell_type": "code",
   "execution_count": 54,
   "metadata": {},
   "outputs": [
    {
     "output_type": "stream",
     "name": "stdout",
     "text": [
      "c로 시작하는 네 글자의 단어: ['city', 'cast']\n"
     ]
    }
   ],
   "source": [
    "c_4word = re.findall(r'\\bc\\w{3}\\b', mammoth)\n",
    "print(f'c로 시작하는 네 글자의 단어: {c_4word}')"
   ]
  },
  {
   "cell_type": "markdown",
   "metadata": {},
   "source": [
    "#### 12.7) r로 끝나는 단어 모두 찾기"
   ]
  },
  {
   "cell_type": "code",
   "execution_count": 56,
   "metadata": {},
   "outputs": [
    {
     "output_type": "stream",
     "name": "stdout",
     "text": [
      "r로 끝나는 단어: ['your', 'fair', 'Or', 'scar', 'Mr', 'far', 'For', 'your', 'or']\n"
     ]
    }
   ],
   "source": [
    "r_word = re.findall(r'\\b\\w*r\\b', mammoth)\n",
    "print(f'r로 끝나는 단어: {r_word}')"
   ]
  },
  {
   "cell_type": "markdown",
   "metadata": {},
   "source": [
    "#### 12.8) 알파벳 모음 문자(a, e, i, o, u)가 연속으로 세 번 나오는 단어 모두 찾기"
   ]
  },
  {
   "cell_type": "code",
   "execution_count": 59,
   "metadata": {},
   "outputs": [
    {
     "output_type": "stream",
     "name": "stdout",
     "text": [
      "['Queen', 'quietly', 'Queen', 'squeeze', 'queen']\n"
     ]
    }
   ],
   "source": [
    "vowel_word = re.findall(r'\\b\\w*[aeiou]{3}[^\\s\\n]\\w*\\b', mammoth)\n",
    "print(vowel_word)"
   ]
  },
  {
   "cell_type": "markdown",
   "metadata": {},
   "source": [
    "# 13장. 날짜와 시간"
   ]
  },
  {
   "cell_type": "markdown",
   "metadata": {},
   "source": [
    "### 연습문제"
   ]
  },
  {
   "cell_type": "markdown",
   "metadata": {},
   "source": [
    "#### 13.1) 현재 날짜를 문자열로 작성하여 today.txt 파일에 저장"
   ]
  },
  {
   "cell_type": "code",
   "execution_count": 69,
   "metadata": {},
   "outputs": [],
   "source": [
    "import datetime"
   ]
  },
  {
   "cell_type": "code",
   "execution_count": 70,
   "metadata": {},
   "outputs": [],
   "source": [
    "t = datetime.date.today()\n",
    "today = t.isoformat()\n",
    "\n",
    "with open('today.txt', 'w') as file:\n",
    "    file.write(today)"
   ]
  },
  {
   "cell_type": "markdown",
   "metadata": {},
   "source": [
    "#### 13.2) today.txt 파일을 읽어 today_string 문자열에 저장"
   ]
  },
  {
   "cell_type": "code",
   "execution_count": 72,
   "metadata": {},
   "outputs": [
    {
     "output_type": "stream",
     "name": "stdout",
     "text": [
      "2020-11-05\n"
     ]
    }
   ],
   "source": [
    "with open('today.txt', 'r') as file:\n",
    "    today_string = file.read()\n",
    "print(today_string)"
   ]
  },
  {
   "cell_type": "markdown",
   "metadata": {},
   "source": [
    "#### 13.3) today_string 문자열을 날짜로 파싱"
   ]
  },
  {
   "cell_type": "code",
   "execution_count": 73,
   "metadata": {},
   "outputs": [],
   "source": [
    "import time"
   ]
  },
  {
   "cell_type": "code",
   "execution_count": 80,
   "metadata": {},
   "outputs": [
    {
     "output_type": "execute_result",
     "data": {
      "text/plain": [
       "time.struct_time(tm_year=2020, tm_mon=11, tm_mday=5, tm_hour=0, tm_min=0, tm_sec=0, tm_wday=3, tm_yday=310, tm_isdst=-1)"
      ]
     },
     "metadata": {},
     "execution_count": 80
    }
   ],
   "source": [
    "fmt_today = '%Y-%m-%d'\n",
    "parsing_today = time.strptime(today_string, fmt_today)\n",
    "parsing_today"
   ]
  },
  {
   "cell_type": "markdown",
   "metadata": {},
   "source": [
    "#### 13.4) 태어난 날의 date 객체 생성"
   ]
  },
  {
   "cell_type": "code",
   "execution_count": 81,
   "metadata": {},
   "outputs": [
    {
     "output_type": "execute_result",
     "data": {
      "text/plain": [
       "datetime.date(1994, 12, 28)"
      ]
     },
     "metadata": {},
     "execution_count": 81
    }
   ],
   "source": [
    "birth_day = date(1994, 12, 28)\n",
    "birth_day"
   ]
  },
  {
   "cell_type": "markdown",
   "metadata": {},
   "source": [
    "#### 13.5) 태어난 날의 요일은?"
   ]
  },
  {
   "cell_type": "code",
   "execution_count": 87,
   "metadata": {},
   "outputs": [
    {
     "output_type": "stream",
     "name": "stdout",
     "text": [
      "당신이 태어난 날은 수요일입니다.\n"
     ]
    }
   ],
   "source": [
    "wday = ['월요일','화요일','수요일','목요일','금요일','토요일','일요일']\n",
    "num_wday = birth_day.weekday()\n",
    "print(f'당신이 태어난 날은 {wday[num_wday]}입니다.')"
   ]
  },
  {
   "cell_type": "markdown",
   "metadata": {},
   "source": [
    "#### 13.6) 생일로부터 10,000일이 지났을 때의 날짜는?"
   ]
  },
  {
   "cell_type": "code",
   "execution_count": 93,
   "metadata": {},
   "outputs": [
    {
     "output_type": "stream",
     "name": "stdout",
     "text": [
      "당신의 생일로부터 10,000일 뒤 날짜는 2022년 5월 15일 입니다.\n"
     ]
    }
   ],
   "source": [
    "after_10000 = birth_day + datetime.timedelta(days=10000)\n",
    "y_10000, m_10000, d_10000 = after_10000.year, after_10000.month, after_10000.day\n",
    "\n",
    "print(f'당신의 생일로부터 10,000일 뒤 날짜는 {y_10000}년 {m_10000}월 {d_10000}일 입니다.')"
   ]
  }
 ]
}