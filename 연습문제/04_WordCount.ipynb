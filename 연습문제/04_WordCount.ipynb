{
 "cells": [
  {
   "cell_type": "markdown",
   "metadata": {},
   "source": [
    "# Word Count Top 10 연습문제"
   ]
  },
  {
   "cell_type": "code",
   "execution_count": 1,
   "metadata": {},
   "outputs": [],
   "source": [
    "lorem = '''What is Lorem Ipsum?\n",
    "Lorem Ipsum is simply dummy text of the printing and typesetting industry.\n",
    "\n",
    "Where does it come from?\n",
    "Contrary to popular belief, Lorem Ipsum is not simply random text.\n",
    "\n",
    "Why do we use it?\n",
    "It is a long established fact that a reader will be distracted \n",
    "by the readable content of a page when looking at its layout.\n",
    "\n",
    "Where can I get some?\n",
    "There are many variations of passages of Lorem Ipsum available, \n",
    "but the majority have suffered alteration in some form, by injected humour, \n",
    "or randomised words which don't look even slightly believable.\n",
    "'''"
   ]
  },
  {
   "cell_type": "code",
   "execution_count": 5,
   "metadata": {
    "scrolled": true
   },
   "outputs": [
    {
     "name": "stdout",
     "output_type": "stream",
     "text": [
      "what is lorem ipsum\n",
      "lorem ipsum is simply dummy text of the printing and typesetting industry\n",
      "\n",
      "where does it come from\n",
      "contrary to popular belief lorem ipsum is not simply random text\n",
      "\n",
      "why do we use it\n",
      "it is a long established fact that a reader will be distracted \n",
      "by the readable content of a page when looking at its layout\n",
      "\n",
      "where can i get some\n",
      "there are many variations of passages of lorem ipsum available \n",
      "but the majority have suffered alteration in some form by injected humour \n",
      "or randomised words which dont look even slightly believable\n",
      "\n"
     ]
    }
   ],
   "source": [
    "import re\n",
    "import string\n",
    "lorem = re.sub(f'[{string.punctuation}0-9]', '', lorem, flags=re.MULTILINE)\n",
    "print(lorem)"
   ]
  },
  {
   "cell_type": "code",
   "execution_count": 4,
   "metadata": {},
   "outputs": [],
   "source": [
    "lorem = lorem.lower()"
   ]
  },
  {
   "cell_type": "code",
   "execution_count": 6,
   "metadata": {},
   "outputs": [
    {
     "name": "stdout",
     "output_type": "stream",
     "text": [
      "['what', 'is', 'lorem', 'ipsum', 'lorem', 'ipsum', 'is', 'simply', 'dummy', 'text', 'of', 'the', 'printing', 'and', 'typesetting', 'industry', 'where', 'does', 'it', 'come', 'from', 'contrary', 'to', 'popular', 'belief', 'lorem', 'ipsum', 'is', 'not', 'simply', 'random', 'text', 'why', 'do', 'we', 'use', 'it', 'it', 'is', 'a', 'long', 'established', 'fact', 'that', 'a', 'reader', 'will', 'be', 'distracted', 'by', 'the', 'readable', 'content', 'of', 'a', 'page', 'when', 'looking', 'at', 'its', 'layout', 'where', 'can', 'i', 'get', 'some', 'there', 'are', 'many', 'variations', 'of', 'passages', 'of', 'lorem', 'ipsum', 'available', 'but', 'the', 'majority', 'have', 'suffered', 'alteration', 'in', 'some', 'form', 'by', 'injected', 'humour', 'or', 'randomised', 'words', 'which', 'dont', 'look', 'even', 'slightly', 'believable']\n"
     ]
    }
   ],
   "source": [
    "lorem_list = lorem.split()\n",
    "print(lorem_list)"
   ]
  },
  {
   "cell_type": "code",
   "execution_count": null,
   "metadata": {},
   "outputs": [],
   "source": [
    "lorem_dict = {}"
   ]
  },
  {
   "cell_type": "code",
   "execution_count": null,
   "metadata": {},
   "outputs": [],
   "source": []
  },
  {
   "cell_type": "code",
   "execution_count": null,
   "metadata": {},
   "outputs": [],
   "source": []
  },
  {
   "cell_type": "code",
   "execution_count": null,
   "metadata": {},
   "outputs": [],
   "source": []
  }
 ],
 "metadata": {
  "kernelspec": {
   "display_name": "Python 3",
   "language": "python",
   "name": "python3"
  },
  "language_info": {
   "codemirror_mode": {
    "name": "ipython",
    "version": 3
   },
   "file_extension": ".py",
   "mimetype": "text/x-python",
   "name": "python",
   "nbconvert_exporter": "python",
   "pygments_lexer": "ipython3",
   "version": "3.8.3"
  }
 },
 "nbformat": 4,
 "nbformat_minor": 4
}
