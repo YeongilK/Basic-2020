{
 "cells": [
  {
   "cell_type": "markdown",
   "metadata": {},
   "source": [
    "# 연습 문제"
   ]
  },
  {
   "cell_type": "markdown",
   "metadata": {},
   "source": [
    "#### 1) 양의 정수 n을 입력받아 1부터 n까지의 제곱의합, 합의제곱 출력"
   ]
  },
  {
   "cell_type": "code",
   "execution_count": 1,
   "metadata": {},
   "outputs": [
    {
     "name": "stdout",
     "output_type": "stream",
     "text": [
      "양의 정수 입력> 10\n",
      "\n",
      "정수 10\n",
      "제곱의 합: 385\n",
      "합의 제곱: 3025\n"
     ]
    }
   ],
   "source": [
    "n = int(input('양의 정수 입력> '))\n",
    "\n",
    "def sum_of_square(num):\n",
    "    result = 0\n",
    "    for i in range(1, num+1):\n",
    "        result += i * i\n",
    "    return result\n",
    "\n",
    "def square_of_sum(num):\n",
    "    result = 0\n",
    "    for i in range(1, num+1):\n",
    "        result += i\n",
    "    return result * result\n",
    "\n",
    "print(f'\\n정수 {n}\\n제곱의 합: {sum_of_square(n)}\\n합의 제곱: {square_of_sum(n)}')"
   ]
  },
  {
   "cell_type": "markdown",
   "metadata": {},
   "source": [
    "#### 2) a + b + c = 1000인 피타고라스 수 구하기(단, a < b < c이다)"
   ]
  },
  {
   "cell_type": "code",
   "execution_count": 2,
   "metadata": {},
   "outputs": [
    {
     "name": "stdout",
     "output_type": "stream",
     "text": [
      "a + b + c = 1000\n",
      "위 식을 만족하는 피타고라스 수 a, b, c는 200, 375, 425입니다\n"
     ]
    }
   ],
   "source": [
    "def get_pytha():\n",
    "    for a in range(1, 334):\n",
    "        for b in range(a+1, 500):\n",
    "            c = 1000 - a - b\n",
    "            if c ** 2 == a ** 2 + b ** 2:\n",
    "                return a, b, c\n",
    "\n",
    "a, b, c = get_pytha()\n",
    "print(f'a + b + c = 1000\\n위 식을 만족하는 피타고라스 수 a, b, c는 {a}, {b}, {c}입니다')"
   ]
  },
  {
   "cell_type": "markdown",
   "metadata": {},
   "source": [
    "#### 3) 디지털 시계에 하루동안(00:00~23:59) 3이 표시되는 시간을 초로 환산"
   ]
  },
  {
   "cell_type": "code",
   "execution_count": 3,
   "metadata": {},
   "outputs": [
    {
     "name": "stdout",
     "output_type": "stream",
     "text": [
      "하루동안 디지털시계에 3이 표시되는 시간: 29700 [sec]\n"
     ]
    }
   ],
   "source": [
    "def total_three():\n",
    "    cnt = 0\n",
    "    for h in range(24):\n",
    "        for m in range(60):\n",
    "            if h % 10 == 3 or m // 10 == 3 or m % 10 == 3:\n",
    "                cnt += 60\n",
    "    return cnt        \n",
    "        \n",
    "print(f'하루동안 디지털시계에 3이 표시되는 시간: {total_three()} [sec]')"
   ]
  },
  {
   "cell_type": "markdown",
   "metadata": {},
   "source": [
    "#### 4) 1에서 1000까지 각 숫자의 개수 구하기"
   ]
  },
  {
   "cell_type": "code",
   "execution_count": 4,
   "metadata": {
    "scrolled": true
   },
   "outputs": [
    {
     "name": "stdout",
     "output_type": "stream",
     "text": [
      "0: 192개\n",
      "1: 301개\n",
      "2: 300개\n",
      "3: 300개\n",
      "4: 300개\n",
      "5: 300개\n",
      "6: 300개\n",
      "7: 300개\n",
      "8: 300개\n",
      "9: 300개\n"
     ]
    }
   ],
   "source": [
    "def get_count(): \n",
    "    keys = [0, 1, 2, 3, 4, 5, 6, 7, 8, 9]\n",
    "    value = [0, 0, 0, 0, 0, 0, 0, 0, 0, 0]\n",
    "    for i in range(1, 1001):\n",
    "        string = str(i)\n",
    "        for k in string:\n",
    "            value[int(k)] += 1\n",
    "    for i in range(10):\n",
    "        print(f'{keys[i]}: {value[i]}개')\n",
    "\n",
    "get_count()"
   ]
  },
  {
   "cell_type": "markdown",
   "metadata": {},
   "source": [
    "#### 5) 세자리 수를 곱해 만들 수 있는 가장 큰 대칭수와 세자리 수 구하기"
   ]
  },
  {
   "cell_type": "code",
   "execution_count": 5,
   "metadata": {},
   "outputs": [
    {
     "name": "stdout",
     "output_type": "stream",
     "text": [
      "가장 큰 대칭수(Palindrome): 906609\n",
      "        곱한 세 자리 수: 993, 913\n"
     ]
    }
   ],
   "source": [
    "def get_palindrome():\n",
    "    palin = []\n",
    "    num1 = []\n",
    "    num2 = []\n",
    "    for i in range(999,99,-1):\n",
    "        for k in range(999,99,-1):\n",
    "            if str(i * k) == str(i * k)[::-1]:\n",
    "                palin.append(i * k)\n",
    "                num1.append(i)\n",
    "                num2.append(k)\n",
    "    return num1, num2, palin\n",
    "\n",
    "num1, num2, palin_num = get_palindrome()\n",
    "\n",
    "for i in range(len(palin_num)):\n",
    "    if i == palin_num.index(max(palin_num)):\n",
    "        print(f'''가장 큰 대칭수(Palindrome): {palin_num[i]}\n",
    "        곱한 세 자리 수: {num1[i]}, {num2[i]}''')"
   ]
  }
 ],
 "metadata": {
  "kernelspec": {
   "display_name": "Python 3",
   "language": "python",
   "name": "python3"
  },
  "language_info": {
   "codemirror_mode": {
    "name": "ipython",
    "version": 3
   },
   "file_extension": ".py",
   "mimetype": "text/x-python",
   "name": "python",
   "nbconvert_exporter": "python",
   "pygments_lexer": "ipython3",
   "version": "3.8.3"
  }
 },
 "nbformat": 4,
 "nbformat_minor": 4
}
