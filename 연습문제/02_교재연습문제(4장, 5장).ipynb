{
 "cells": [
  {
   "cell_type": "markdown",
   "metadata": {},
   "source": [
    "# 4장. 선택하기: if"
   ]
  },
  {
   "cell_type": "markdown",
   "metadata": {},
   "source": [
    "### 연습문제"
   ]
  },
  {
   "cell_type": "markdown",
   "metadata": {},
   "source": [
    "#### 4.1) 1 ~ 10 사이의 2개의 숫자 secret, guess 비교"
   ]
  },
  {
   "cell_type": "code",
   "execution_count": 1,
   "metadata": {
    "scrolled": true
   },
   "outputs": [
    {
     "name": "stdout",
     "output_type": "stream",
     "text": [
      "guess: 2 / secret: 6\n",
      "too low\n"
     ]
    }
   ],
   "source": [
    "import random as rd\n",
    "secret = rd.randint(1, 10)\n",
    "guess = rd.randint(1, 10)\n",
    "print(f'guess: {guess} / secret: {secret}')\n",
    "if guess < secret:\n",
    "    print('too low')\n",
    "elif guess > secret:\n",
    "    print('too high')\n",
    "else:\n",
    "    print('just right')"
   ]
  },
  {
   "cell_type": "markdown",
   "metadata": {},
   "source": [
    "#### 4.2) 작은 것(small)과 녹색(green)을 기준으로 분류"
   ]
  },
  {
   "cell_type": "code",
   "execution_count": 2,
   "metadata": {
    "scrolled": false
   },
   "outputs": [
    {
     "name": "stdout",
     "output_type": "stream",
     "text": [
      "크기 기준을 입력하세요(작은 것: 1, 큰 것: 0)> 1\n",
      "색깔 기준을 입력하세요(녹색: 1, 녹색 아닌 것: 0)> 0\n",
      "cherry\n"
     ]
    }
   ],
   "source": [
    "standard_size = int(input('크기 기준을 입력하세요(작은 것: 1, 큰 것: 0)> '))\n",
    "standard_color = int(input('색깔 기준을 입력하세요(녹색: 1, 녹색 아닌 것: 0)> '))\n",
    "small = standard_size\n",
    "green = standard_color\n",
    "if small:\n",
    "    if green:\n",
    "        print('pea')\n",
    "    else:\n",
    "        print('cherry')\n",
    "else:\n",
    "    if green:\n",
    "        print('watermelon')\n",
    "    else:\n",
    "        print('pumpkin')"
   ]
  },
  {
   "cell_type": "markdown",
   "metadata": {},
   "source": [
    "# 5장. 텍스트 문자열"
   ]
  },
  {
   "cell_type": "markdown",
   "metadata": {},
   "source": [
    "### 연습 문제"
   ]
  },
  {
   "cell_type": "markdown",
   "metadata": {},
   "source": [
    "#### 5.1) m으로 시작하는 단어 첫 문자 대문자로 만들기"
   ]
  },
  {
   "cell_type": "code",
   "execution_count": 3,
   "metadata": {
    "scrolled": true
   },
   "outputs": [
    {
     "name": "stdout",
     "output_type": "stream",
     "text": [
      "When an eel grabs your arm,\n",
      "And it causes great harm,\n",
      "that's - a Moray!\n"
     ]
    }
   ],
   "source": [
    "song = '''When an eel grabs your arm,\n",
    "And it causes great harm,\n",
    "that's - a moray!'''\n",
    "song = song.replace(' m', ' M')\n",
    "print(song)"
   ]
  },
  {
   "cell_type": "markdown",
   "metadata": {},
   "source": [
    "#### 5.1) 입력 받은 문자열에 m으로 시작하는 단어 첫 문자 대문자로 만들기"
   ]
  },
  {
   "cell_type": "code",
   "execution_count": 4,
   "metadata": {},
   "outputs": [
    {
     "name": "stdout",
     "output_type": "stream",
     "text": [
      "문자열을 입력하세요> I was searching my source to make a big desk yesterday.\n",
      "I was searching My source to Make a big desk yesterday.\n"
     ]
    }
   ],
   "source": [
    "# 입력: I was searching my source to make a big desk yesterday.\n",
    "\n",
    "import re\n",
    "text = input('문자열을 입력하세요> ')\n",
    "words = re.findall(r'\\b[m]\\w+', text)\n",
    "for index, value in enumerate(words):\n",
    "    value = value.capitalize()\n",
    "    text = text.replace(words[index], value)\n",
    "print(text)"
   ]
  },
  {
   "cell_type": "markdown",
   "metadata": {},
   "source": [
    "#### 5.2) Question, Answer 출력"
   ]
  },
  {
   "cell_type": "code",
   "execution_count": 5,
   "metadata": {},
   "outputs": [
    {
     "name": "stdout",
     "output_type": "stream",
     "text": [
      "Q: We don't serve strings around here. Are you a string?\n",
      "A: An exploding sheep.\n",
      "\n",
      "Q: What is said on Father's Day in the forest?\n",
      "A: No, I'm a frayed knot.\n",
      "\n",
      "Q: What makes the sound 'Sis! Boom! Bah!'?\n",
      "A: 'Pop!' goes the weasel.\n",
      "\n"
     ]
    }
   ],
   "source": [
    "question = [\n",
    "    \"We don't serve strings around here. Are you a string?\",\n",
    "    \"What is said on Father's Day in the forest?\",\n",
    "    \"What makes the sound 'Sis! Boom! Bah!'?\"\n",
    "]\n",
    "answer = [\n",
    "    \"An exploding sheep.\",\n",
    "    \"No, I'm a frayed knot.\",\n",
    "    \"'Pop!' goes the weasel.\"\n",
    "]\n",
    "for i in range(3):\n",
    "    print(f'Q: {question[i]}\\nA: {answer[i]}\\n')"
   ]
  },
  {
   "cell_type": "markdown",
   "metadata": {},
   "source": [
    "#### 5.3) 옛 스타일 포맷팅 사용, 문자열 대체"
   ]
  },
  {
   "cell_type": "code",
   "execution_count": 6,
   "metadata": {},
   "outputs": [
    {
     "name": "stdout",
     "output_type": "stream",
     "text": [
      "My kitty cat likes roast beef\n",
      "My kitty cat likes ham\n",
      "My kitty cat fell on his head And now thinks he's a clam\n"
     ]
    }
   ],
   "source": [
    "words = ['roast beef', 'ham', 'head', 'clam']\n",
    "for i in range(2):\n",
    "    print('My kitty cat likes %s' % words[i])\n",
    "print(\"My kitty cat fell on his %s And now thinks he's a %s\" % (words[2], words[3]))"
   ]
  },
  {
   "cell_type": "markdown",
   "metadata": {},
   "source": [
    "#### 5.4) 새 스타일 포맷팅 사용, 문자열 대체"
   ]
  },
  {
   "cell_type": "code",
   "execution_count": 7,
   "metadata": {},
   "outputs": [],
   "source": [
    "letter = '''\n",
    "    Dear {salutation} {name},\n",
    "    Thank you for your letter. We are sorry that our {product} \n",
    "    {verbed} in your {room}. \n",
    "    Please note that it should never be used in a {room}, \n",
    "    especially near any {animals}.\n",
    "    \n",
    "    Send us your receipt and {amount} for shipping and handling. \n",
    "    We will send you another {product} that, in our tests, \n",
    "    is {percent}% less likely to have {verbed}.\n",
    "    \n",
    "    Thank you for your support.\n",
    "    Sincerely,\n",
    "    {spokesman}\n",
    "    {job_title}'''"
   ]
  },
  {
   "cell_type": "markdown",
   "metadata": {},
   "source": [
    "#### 5.5) 문제 5.4의 문자열 변수에 값 할당"
   ]
  },
  {
   "cell_type": "code",
   "execution_count": 8,
   "metadata": {},
   "outputs": [
    {
     "name": "stdout",
     "output_type": "stream",
     "text": [
      "\n",
      "    Dear Mr. Lee,\n",
      "    Thank you for your letter. We are sorry that our pudding \n",
      "    evaporated in your gazebo. \n",
      "    Please note that it should never be used in a gazebo, \n",
      "    especially near any octothorpes.\n",
      "    \n",
      "    Send us your receipt and $1.99 for shipping and handling. \n",
      "    We will send you another pudding that, in our tests, \n",
      "    is 88% less likely to have evaporated.\n",
      "    \n",
      "    Thank you for your support.\n",
      "    Sincerely,\n",
      "    Y.I Kim\n",
      "    I Hate This Job\n"
     ]
    }
   ],
   "source": [
    "print(\n",
    "    letter.format(\n",
    "        salutation = 'Mr.',\n",
    "        name = 'Lee',\n",
    "        product = 'pudding',\n",
    "        verbed = 'evaporated',\n",
    "        room = 'gazebo',\n",
    "        animals = 'octothorpes',\n",
    "        amount = '$1.99',\n",
    "        percent = '88',\n",
    "        spokesman = 'Y.I Kim',\n",
    "        job_title = 'I Hate This Job'\n",
    "    )\n",
    ")"
   ]
  },
  {
   "cell_type": "markdown",
   "metadata": {},
   "source": [
    "#### 5.6) 문자열 'duck', 'gourd', 'spitz' 과 % 포맷팅을 사용하여 출력"
   ]
  },
  {
   "cell_type": "code",
   "execution_count": 9,
   "metadata": {},
   "outputs": [
    {
     "name": "stdout",
     "output_type": "stream",
     "text": [
      "Ducky McDuckface\n",
      "Gourdy McGourdface\n",
      "Spitzy McSpitzface\n"
     ]
    }
   ],
   "source": [
    "words = ['duck', 'gourd', 'spitz']\n",
    "for word in words:\n",
    "    word = word.capitalize()\n",
    "    print('%sy Mc%sface' % (word, word))"
   ]
  },
  {
   "cell_type": "markdown",
   "metadata": {},
   "source": [
    "#### 5.7) format() 메서드를 사용해 문제 5.6을 풀어라."
   ]
  },
  {
   "cell_type": "code",
   "execution_count": 10,
   "metadata": {},
   "outputs": [
    {
     "name": "stdout",
     "output_type": "stream",
     "text": [
      "Ducky McDuckface\n",
      "Gourdy McGourdface\n",
      "Spitzy McSpitzface\n"
     ]
    }
   ],
   "source": [
    "words = ['duck', 'gourd', 'spitz']\n",
    "for word in words:\n",
    "    word = word.capitalize()\n",
    "    print('{}y Mc{}face'.format(word, word))"
   ]
  },
  {
   "cell_type": "markdown",
   "metadata": {},
   "source": [
    "#### 5.8) f-문자열을 사용해 문제 5.6을 풀어라."
   ]
  },
  {
   "cell_type": "code",
   "execution_count": 11,
   "metadata": {},
   "outputs": [
    {
     "name": "stdout",
     "output_type": "stream",
     "text": [
      "Ducky McDuckface\n",
      "Gourdy McGourdface\n",
      "Spitzy McSpitzface\n"
     ]
    }
   ],
   "source": [
    "words = ['duck', 'gourd', 'spitz']\n",
    "for word in words:\n",
    "    word = word.capitalize()\n",
    "    print(f'{word}y Mc{word}face')"
   ]
  },
  {
   "cell_type": "code",
   "execution_count": null,
   "metadata": {},
   "outputs": [],
   "source": []
  }
 ],
 "metadata": {
  "kernelspec": {
   "display_name": "Python 3",
   "language": "python",
   "name": "python3"
  },
  "language_info": {
   "codemirror_mode": {
    "name": "ipython",
    "version": 3
   },
   "file_extension": ".py",
   "mimetype": "text/x-python",
   "name": "python",
   "nbconvert_exporter": "python",
   "pygments_lexer": "ipython3",
   "version": "3.8.3"
  }
 },
 "nbformat": 4,
 "nbformat_minor": 4
}
