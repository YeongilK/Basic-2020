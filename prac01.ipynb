{
 "cells": [
  {
   "cell_type": "code",
   "execution_count": 3,
   "metadata": {},
   "outputs": [
    {
     "name": "stdout",
     "output_type": "stream",
     "text": [
      "Hello, Python!\n"
     ]
    }
   ],
   "source": [
    "a = 'Hello, world!'\n",
    "a = a.replace('world!', 'Python!')\n",
    "print(a)"
   ]
  },
  {
   "cell_type": "code",
   "execution_count": 4,
   "metadata": {},
   "outputs": [
    {
     "data": {
      "text/plain": [
       "'1ppl2'"
      ]
     },
     "execution_count": 4,
     "metadata": {},
     "output_type": "execute_result"
    }
   ],
   "source": [
    "# str.maketrans('바꿀문자', '새문자')\n",
    "table = str.maketrans('aeiou', '12345')\n",
    "# a를 1, e를 2, i를 3, o를 4, u를 5 로 바꾼다, 순서대로!\n",
    "'apple'.translate(table)"
   ]
  },
  {
   "cell_type": "code",
   "execution_count": 8,
   "metadata": {},
   "outputs": [
    {
     "name": "stdout",
     "output_type": "stream",
     "text": [
      "['apple', 'pear', 'grape', 'pineapple', 'orange']\n",
      "['apple', 'pear', 'grape', 'pineapple', 'orange']\n"
     ]
    }
   ],
   "source": [
    "fruit_1 = 'apple pear grape pineapple orange'\n",
    "fruit1 = fruit_1.split()    # split() : 공백이 기본값\n",
    "print(fruit1)\n",
    "\n",
    "fruit_2 = 'apple/pear/grape/pineapple/orange'\n",
    "fruit2 = fruit_2.split('/')\n",
    "print(fruit2)"
   ]
  },
  {
   "cell_type": "code",
   "execution_count": null,
   "metadata": {},
   "outputs": [],
   "source": []
  }
 ],
 "metadata": {
  "kernelspec": {
   "display_name": "Python 3",
   "language": "python",
   "name": "python3"
  },
  "language_info": {
   "codemirror_mode": {
    "name": "ipython",
    "version": 3
   },
   "file_extension": ".py",
   "mimetype": "text/x-python",
   "name": "python",
   "nbconvert_exporter": "python",
   "pygments_lexer": "ipython3",
   "version": "3.8.3"
  }
 },
 "nbformat": 4,
 "nbformat_minor": 4
}
