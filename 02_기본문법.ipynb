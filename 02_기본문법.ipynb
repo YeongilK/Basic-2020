{
 "cells": [
  {
   "cell_type": "markdown",
   "metadata": {},
   "source": [
    "# 파이썬의 기본 문법\n",
    "\n",
    "## 변수"
   ]
  },
  {
   "cell_type": "code",
   "execution_count": 1,
   "metadata": {},
   "outputs": [
    {
     "name": "stdout",
     "output_type": "stream",
     "text": [
      "50\n"
     ]
    }
   ],
   "source": [
    "# 두 수의 합 구하기\n",
    "a = 20\n",
    "b = 30\n",
    "c = a + b\n",
    "print(c)"
   ]
  },
  {
   "cell_type": "code",
   "execution_count": 2,
   "metadata": {},
   "outputs": [
    {
     "name": "stdout",
     "output_type": "stream",
     "text": [
      "50\n"
     ]
    }
   ],
   "source": [
    "# 사각형 면적구하기(Camel-Java스타일)\n",
    "rectWidth = 10\n",
    "rectHeight = 5\n",
    "rectArea = rectWidth * rectHeight\n",
    "print(rectArea)"
   ]
  },
  {
   "cell_type": "code",
   "execution_count": 3,
   "metadata": {},
   "outputs": [
    {
     "name": "stdout",
     "output_type": "stream",
     "text": [
      "50\n"
     ]
    }
   ],
   "source": [
    "# 사각형 면적구하기(Snake-Python스타일)\n",
    "rect_width = 10\n",
    "rect_height = 5\n",
    "rect_area = rect_width * rect_height\n",
    "print(rect_area)"
   ]
  },
  {
   "cell_type": "code",
   "execution_count": 4,
   "metadata": {},
   "outputs": [
    {
     "name": "stdout",
     "output_type": "stream",
     "text": [
      "30\n",
      "<class 'int'>\n",
      "3.3287 5.0\n",
      "<class 'float'> <class 'float'>\n"
     ]
    }
   ],
   "source": [
    "# 정수형, 실수형\n",
    "x = 30\n",
    "print(30)\n",
    "print(type(x))\n",
    "\n",
    "y = 3.3287\n",
    "z = 15 / 3\n",
    "print(y, z)\n",
    "print(type(y), type(z))"
   ]
  },
  {
   "cell_type": "code",
   "execution_count": 6,
   "metadata": {},
   "outputs": [
    {
     "name": "stdout",
     "output_type": "stream",
     "text": [
      "72\n",
      "I am ok.\n",
      "안녕하세요!\n",
      "I'm ok.\n",
      "<class 'str'> <class 'str'> <class 'str'> <class 'str'>\n"
     ]
    }
   ],
   "source": [
    "# 문자열\n",
    "a = '72'           # int형이 아닌 str형으로 인식\n",
    "b = 'I am ok.'\n",
    "c = \"안녕하세요!\"\n",
    "d = \"I'm ok.\" \n",
    "\n",
    "print(a)\n",
    "print(b)\n",
    "print(c)\n",
    "print(d)\n",
    "print(type(a), type(b), type(c), type(d))"
   ]
  },
  {
   "cell_type": "code",
   "execution_count": 8,
   "metadata": {},
   "outputs": [
    {
     "name": "stdout",
     "output_type": "stream",
     "text": [
      "I am Happy!\n",
      "I\n",
      "I a\n",
      "I am\n",
      "Happy!\n",
      "!\n",
      "py!\n",
      "pp\n"
     ]
    }
   ],
   "source": [
    "# 문자열의 인덱스(공백도 하나의 인덱스로 취급!!)(인덱스는 0번부터 시작)\n",
    "x = 'I am Happy!'\n",
    "\n",
    "print(x)          # 문자열 전체 출력\n",
    "print(x[0])       # 문자열의 첫번째 인덱스 출력\n",
    "print(x[0:3])     # 0번 인덱스 ~ 3번 인덱스 앞까지 출력\n",
    "print(x[:4])      # 0번 인덱스 ~ 4번 인덱스 앞까지 출력\n",
    "print(x[5:])      # 5번 인덱스 ~ 마지막 인덱스까지 출력\n",
    "print(x[-1])      # 마지막 인덱스 출력\n",
    "print(x[-3:])     # 끝에서 3번째 인덱스 ~ 마지막 인덱스까지 출력\n",
    "print(x[-4:-2])   # 끝에서 4번째 인덱스 ~ 끝에서 2번째 앞 인덱스까지 출력"
   ]
  },
  {
   "cell_type": "code",
   "execution_count": 9,
   "metadata": {},
   "outputs": [
    {
     "name": "stdout",
     "output_type": "stream",
     "text": [
      "True False\n"
     ]
    }
   ],
   "source": [
    "# Boolean\n",
    "t = True\n",
    "f = False\n",
    "print(t, f)"
   ]
  },
  {
   "cell_type": "code",
   "execution_count": 10,
   "metadata": {},
   "outputs": [
    {
     "data": {
      "text/plain": [
       "False"
      ]
     },
     "execution_count": 10,
     "metadata": {},
     "output_type": "execute_result"
    }
   ],
   "source": [
    "condition = 10 > 20\n",
    "condition"
   ]
  },
  {
   "cell_type": "code",
   "execution_count": 11,
   "metadata": {},
   "outputs": [
    {
     "data": {
      "text/plain": [
       "bool"
      ]
     },
     "execution_count": 11,
     "metadata": {},
     "output_type": "execute_result"
    }
   ],
   "source": [
    "type(condition)"
   ]
  },
  {
   "cell_type": "markdown",
   "metadata": {},
   "source": [
    "## 산술 연산자"
   ]
  },
  {
   "cell_type": "code",
   "execution_count": 12,
   "metadata": {},
   "outputs": [
    {
     "name": "stdout",
     "output_type": "stream",
     "text": [
      "209.0\n"
     ]
    }
   ],
   "source": [
    "#  사칙연산\n",
    "a = 10\n",
    "b = 20\n",
    "c = a + b * 10 - 5 / 5\n",
    "print(c)"
   ]
  },
  {
   "cell_type": "code",
   "execution_count": 3,
   "metadata": {},
   "outputs": [
    {
     "name": "stdout",
     "output_type": "stream",
     "text": [
      "1 3\n",
      "<class 'int'> <class 'int'>\n"
     ]
    }
   ],
   "source": [
    "# 몫과 나머지(몫과 나머지는 'int' type)\n",
    "x = 10 % 3\n",
    "y = 10 // 3\n",
    "print(x, y)\n",
    "print(type(x), type(y))"
   ]
  },
  {
   "cell_type": "code",
   "execution_count": 4,
   "metadata": {},
   "outputs": [
    {
     "name": "stdout",
     "output_type": "stream",
     "text": [
      "8 10000\n",
      "0.01\n"
     ]
    }
   ],
   "source": [
    "# 거듭제곱 연산자\n",
    "x = 2 ** 3\n",
    "y = 10 ** 4\n",
    "z = 10 ** -2\n",
    "print(x, y)\n",
    "print(z)"
   ]
  },
  {
   "cell_type": "markdown",
   "metadata": {},
   "source": [
    "## 할당 연산자"
   ]
  },
  {
   "cell_type": "code",
   "execution_count": 5,
   "metadata": {},
   "outputs": [
    {
     "name": "stdout",
     "output_type": "stream",
     "text": [
      "30\n"
     ]
    }
   ],
   "source": [
    "x = 10\n",
    "x += 20    # x = x + 20 = 10 + 20\n",
    "print(x)"
   ]
  },
  {
   "cell_type": "code",
   "execution_count": 6,
   "metadata": {},
   "outputs": [
    {
     "name": "stdout",
     "output_type": "stream",
     "text": [
      "24\n"
     ]
    }
   ],
   "source": [
    "x = 3\n",
    "y = 5\n",
    "x *= x + y    # x = x * (x + y) = 3 * (3 + 5)\n",
    "print(x)"
   ]
  },
  {
   "cell_type": "markdown",
   "metadata": {},
   "source": [
    "## 숫자 연산자"
   ]
  },
  {
   "cell_type": "code",
   "execution_count": 1,
   "metadata": {},
   "outputs": [
    {
     "name": "stdout",
     "output_type": "stream",
     "text": [
      "4\n",
      "4 -4\n"
     ]
    }
   ],
   "source": [
    "x = 20\n",
    "y = 4\n",
    "x = y % x\n",
    "print(x)\n",
    "\n",
    "y -= x * 2\n",
    "print(x, y)"
   ]
  },
  {
   "cell_type": "markdown",
   "metadata": {},
   "source": [
    "## 문자열"
   ]
  },
  {
   "cell_type": "code",
   "execution_count": 9,
   "metadata": {},
   "outputs": [
    {
     "name": "stdout",
     "output_type": "stream",
     "text": [
      "안녕안녕안녕안녕안녕\n"
     ]
    }
   ],
   "source": [
    "# 문자열 반복\n",
    "hello = '안녕' * 5\n",
    "print(hello)"
   ]
  },
  {
   "cell_type": "code",
   "execution_count": 15,
   "metadata": {},
   "outputs": [
    {
     "data": {
      "text/plain": [
       "10"
      ]
     },
     "execution_count": 15,
     "metadata": {},
     "output_type": "execute_result"
    }
   ],
   "source": [
    "# 문자열 길이\n",
    "len(hello)"
   ]
  },
  {
   "cell_type": "code",
   "execution_count": 16,
   "metadata": {},
   "outputs": [
    {
     "data": {
      "text/plain": [
       "17"
      ]
     },
     "execution_count": 16,
     "metadata": {},
     "output_type": "execute_result"
    }
   ],
   "source": [
    "len('나는 Python을 좋아합니다.')"
   ]
  },
  {
   "cell_type": "code",
   "execution_count": 17,
   "metadata": {},
   "outputs": [
    {
     "name": "stdout",
     "output_type": "stream",
     "text": [
      "김영일님 안녕하세요!\n"
     ]
    }
   ],
   "source": [
    "# 문자열 연결\n",
    "name = '김영일'\n",
    "greet = '님 안녕하세요!'\n",
    "print(name + greet)"
   ]
  },
  {
   "cell_type": "code",
   "execution_count": 29,
   "metadata": {},
   "outputs": [
    {
     "ename": "TypeError",
     "evalue": "can only concatenate str (not \"int\") to str",
     "output_type": "error",
     "traceback": [
      "\u001b[1;31m---------------------------------------------------------------------------\u001b[0m",
      "\u001b[1;31mTypeError\u001b[0m                                 Traceback (most recent call last)",
      "\u001b[1;32m<ipython-input-29-a8bd2880a05d>\u001b[0m in \u001b[0;36m<module>\u001b[1;34m\u001b[0m\n\u001b[0;32m      1\u001b[0m \u001b[1;31m# 문자열 연결시 주의사항(서로 다른 타입 연결 불가!)\u001b[0m\u001b[1;33m\u001b[0m\u001b[1;33m\u001b[0m\u001b[1;33m\u001b[0m\u001b[0m\n\u001b[0;32m      2\u001b[0m \u001b[0meng\u001b[0m \u001b[1;33m=\u001b[0m \u001b[1;36m80\u001b[0m\u001b[1;33m\u001b[0m\u001b[1;33m\u001b[0m\u001b[0m\n\u001b[1;32m----> 3\u001b[1;33m \u001b[0mresult\u001b[0m \u001b[1;33m=\u001b[0m \u001b[1;34m'영어점수 : '\u001b[0m\u001b[1;33m+\u001b[0m\u001b[0meng\u001b[0m\u001b[1;33m+\u001b[0m\u001b[1;34m'점'\u001b[0m\u001b[1;33m\u001b[0m\u001b[1;33m\u001b[0m\u001b[0m\n\u001b[0m\u001b[0;32m      4\u001b[0m \u001b[0mprint\u001b[0m\u001b[1;33m(\u001b[0m\u001b[0mresult\u001b[0m\u001b[1;33m)\u001b[0m\u001b[1;33m\u001b[0m\u001b[1;33m\u001b[0m\u001b[0m\n",
      "\u001b[1;31mTypeError\u001b[0m: can only concatenate str (not \"int\") to str"
     ]
    }
   ],
   "source": [
    "# 문자열 연결시 주의사항(서로 다른 타입 연결 불가!)\n",
    "eng = 80\n",
    "result = '영어점수 : '+eng+'점'\n",
    "print(result)"
   ]
  },
  {
   "cell_type": "code",
   "execution_count": 23,
   "metadata": {},
   "outputs": [
    {
     "name": "stdout",
     "output_type": "stream",
     "text": [
      "영어점수 : 80점\n"
     ]
    }
   ],
   "source": [
    "eng = 80\n",
    "result = '영어점수 : '+str(eng)+'점'    # eng를 str타입으로 변환\n",
    "print(result)"
   ]
  },
  {
   "cell_type": "code",
   "execution_count": 26,
   "metadata": {},
   "outputs": [
    {
     "name": "stdout",
     "output_type": "stream",
     "text": [
      "영어 점수 : 90점\n"
     ]
    }
   ],
   "source": [
    "# 문자열 포맷팅\n",
    "eng = 90\n",
    "result = '영어 점수 : %d점' % eng\n",
    "print(result)"
   ]
  },
  {
   "cell_type": "code",
   "execution_count": 28,
   "metadata": {},
   "outputs": [
    {
     "name": "stdout",
     "output_type": "stream",
     "text": [
      "제 이름은 김영일입니다\n"
     ]
    }
   ],
   "source": [
    "name = '김영일'\n",
    "result = '제 이름은 %s입니다' % name\n",
    "print(result)"
   ]
  },
  {
   "cell_type": "code",
   "execution_count": 31,
   "metadata": {},
   "outputs": [
    {
     "name": "stdout",
     "output_type": "stream",
     "text": [
      "2020-08-27\n"
     ]
    }
   ],
   "source": [
    "year = 2020\n",
    "month = 8\n",
    "day = 27\n",
    "\n",
    "date = '%d-%02d-%02d' % (year, month, day)\n",
    "print(date)"
   ]
  },
  {
   "cell_type": "code",
   "execution_count": 32,
   "metadata": {},
   "outputs": [
    {
     "name": "stdout",
     "output_type": "stream",
     "text": [
      "키는 172.50입니다.\n"
     ]
    }
   ],
   "source": [
    "height = 172.5\n",
    "a = '키는 %.2f입니다.' % height\n",
    "print(a)"
   ]
  },
  {
   "cell_type": "code",
   "execution_count": 34,
   "metadata": {},
   "outputs": [
    {
     "name": "stdout",
     "output_type": "stream",
     "text": [
      "이름 : 김영일\n",
      "나이 : 27\n",
      "시력 : 1.0\n"
     ]
    }
   ],
   "source": [
    "# format() 활용\n",
    "name = '김영일'\n",
    "age = 27\n",
    "eyesight = 1.0\n",
    "\n",
    "a = '이름 : {}'.format(name)\n",
    "b = '나이 : {}'.format(age)\n",
    "c = '시력 : {}'.format(eyesight)\n",
    "\n",
    "print(a)\n",
    "print(b)\n",
    "print(c)"
   ]
  },
  {
   "cell_type": "markdown",
   "metadata": {},
   "source": [
    "### 문자열 메소드"
   ]
  },
  {
   "cell_type": "code",
   "execution_count": 42,
   "metadata": {},
   "outputs": [
    {
     "data": {
      "text/plain": [
       "5"
      ]
     },
     "execution_count": 42,
     "metadata": {},
     "output_type": "execute_result"
    }
   ],
   "source": [
    "# count() : 특정 문자열이 몇 개 있는지 확인\n",
    "hello.count('안')    # hello = '안녕안녕안녕안녕안녕'"
   ]
  },
  {
   "cell_type": "code",
   "execution_count": 43,
   "metadata": {},
   "outputs": [
    {
     "data": {
      "text/plain": [
       "1"
      ]
     },
     "execution_count": 43,
     "metadata": {},
     "output_type": "execute_result"
    }
   ],
   "source": [
    "# find() : 특정 문자열의 인덱스 번호를 출력\n",
    "a.find('름')    # 문자열 a는 '이름 : 김영일' ('름' 의 인덱스번호는 1 !!)"
   ]
  },
  {
   "cell_type": "code",
   "execution_count": 44,
   "metadata": {},
   "outputs": [
    {
     "data": {
      "text/plain": [
       "-1"
      ]
     },
     "execution_count": 44,
     "metadata": {},
     "output_type": "execute_result"
    }
   ],
   "source": [
    "a.find('나')    # 문자열 a에서 '나' 는 없다! 없으면 결과값은 -1"
   ]
  },
  {
   "cell_type": "code",
   "execution_count": 50,
   "metadata": {},
   "outputs": [
    {
     "name": "stdout",
     "output_type": "stream",
     "text": [
      "WELCOME TO PYTHON WORLD\n",
      "welcome to python world\n"
     ]
    }
   ],
   "source": [
    "# upper() : 문자열 대문자 변환 / lower() : 문자열 소문자 변환\n",
    "str = 'Welcome to Python World'\n",
    "str1 = str.upper()\n",
    "str2 = str.lower()\n",
    "\n",
    "print(str1)\n",
    "print(str2)"
   ]
  },
  {
   "cell_type": "code",
   "execution_count": 52,
   "metadata": {},
   "outputs": [
    {
     "data": {
      "text/plain": [
       "'Hallo'"
      ]
     },
     "execution_count": 52,
     "metadata": {},
     "output_type": "execute_result"
    }
   ],
   "source": [
    "# replace() : 문자열 내부의 특정 문자열 바꾸기\n",
    "'Hello'.replace('e', 'a')"
   ]
  },
  {
   "cell_type": "code",
   "execution_count": 55,
   "metadata": {},
   "outputs": [
    {
     "name": "stdout",
     "output_type": "stream",
     "text": [
      "['김', '이', '박', '최', '정']\n"
     ]
    }
   ],
   "source": [
    "# split() : 문자열 분리하기 (list형태로 출력!!)\n",
    "names = '김,이,박,최,정'\n",
    "first_names = names.split(',')\n",
    "print(first_names)"
   ]
  },
  {
   "cell_type": "code",
   "execution_count": 54,
   "metadata": {},
   "outputs": [
    {
     "name": "stdout",
     "output_type": "stream",
     "text": [
      "['김', '이', '박', '최', '정']\n"
     ]
    }
   ],
   "source": [
    "names = '김\\t이\\t박\\t최\\t정'\n",
    "first_names = names.split('\\t')\n",
    "print(first_names)"
   ]
  },
  {
   "cell_type": "code",
   "execution_count": 61,
   "metadata": {},
   "outputs": [
    {
     "name": "stdout",
     "output_type": "stream",
     "text": [
      "False\n",
      "True\n"
     ]
    }
   ],
   "source": [
    "# isspace() : 문자열이 공백으로만 이뤄져있으면 True, 아니면 False\n",
    "str_a = 'Welcome to Python World'\n",
    "space = str_a.isspace()\n",
    "print(space)\n",
    "\n",
    "str_b = '     '\n",
    "space = str_b.isspace()\n",
    "print(space)"
   ]
  },
  {
   "cell_type": "markdown",
   "metadata": {},
   "source": [
    "## 실행결과 출력"
   ]
  },
  {
   "cell_type": "code",
   "execution_count": 62,
   "metadata": {},
   "outputs": [
    {
     "name": "stdout",
     "output_type": "stream",
     "text": [
      "김영일 27 1.0\n"
     ]
    }
   ],
   "source": [
    "# 콤마\n",
    "print(name, age, eyesight)"
   ]
  },
  {
   "cell_type": "code",
   "execution_count": 65,
   "metadata": {},
   "outputs": [
    {
     "name": "stdout",
     "output_type": "stream",
     "text": [
      "2020 8 27\n",
      "2020/8/27\n",
      "2020-8-27\n"
     ]
    }
   ],
   "source": [
    "# sep을 이용한 출력(sep = '구분기호')\n",
    "print(year, month, day)\n",
    "print(year, month, day, sep = '/')\n",
    "print(year, month, day, sep = '-')"
   ]
  },
  {
   "cell_type": "code",
   "execution_count": 66,
   "metadata": {},
   "outputs": [
    {
     "name": "stdout",
     "output_type": "stream",
     "text": [
      "김영일 27 1.0\n",
      "2020 8 27\n"
     ]
    }
   ],
   "source": [
    "# end를 이용한 출력\n",
    "print(name, age, eyesight)\n",
    "print(year, month, day)"
   ]
  },
  {
   "cell_type": "code",
   "execution_count": 67,
   "metadata": {},
   "outputs": [
    {
     "name": "stdout",
     "output_type": "stream",
     "text": [
      "김영일 27 1.0\n",
      "\n",
      "2020 8 27\n"
     ]
    }
   ],
   "source": [
    "print(name, age, eyesight, end = '\\n\\n')\n",
    "print(year, month, day)"
   ]
  },
  {
   "cell_type": "code",
   "execution_count": 69,
   "metadata": {},
   "outputs": [
    {
     "name": "stdout",
     "output_type": "stream",
     "text": [
      "김영일 27 1.0\t2020-8-27\n"
     ]
    }
   ],
   "source": [
    "print(name, age, eyesight, end = '\\t')\n",
    "print(year, month, day, sep = '-')"
   ]
  },
  {
   "cell_type": "code",
   "execution_count": 70,
   "metadata": {},
   "outputs": [
    {
     "name": "stdout",
     "output_type": "stream",
     "text": [
      "2020/8/27\t2020-8-27\n"
     ]
    }
   ],
   "source": [
    "print(year, month, day, sep = '/', end = '\\t')\n",
    "print(year, month, day, sep = '-')"
   ]
  },
  {
   "cell_type": "code",
   "execution_count": 71,
   "metadata": {},
   "outputs": [
    {
     "name": "stdout",
     "output_type": "stream",
     "text": [
      "2020/8/27\t김영일, 27, 1.0\n"
     ]
    }
   ],
   "source": [
    "# sep과 end는 맨 뒤에, sep과 end의 순서는 바뀌어도 상관없다\n",
    "print(year, month, day, end = '\\t', sep = '/')\n",
    "print(name, age, eyesight, sep = ', ')"
   ]
  },
  {
   "cell_type": "code",
   "execution_count": 72,
   "metadata": {},
   "outputs": [
    {
     "ename": "SyntaxError",
     "evalue": "positional argument follows keyword argument (<ipython-input-72-6055d1432b15>, line 1)",
     "output_type": "error",
     "traceback": [
      "\u001b[1;36m  File \u001b[1;32m\"<ipython-input-72-6055d1432b15>\"\u001b[1;36m, line \u001b[1;32m1\u001b[0m\n\u001b[1;33m    print(name, age, sep = ',', eyesight)\u001b[0m\n\u001b[1;37m                                ^\u001b[0m\n\u001b[1;31mSyntaxError\u001b[0m\u001b[1;31m:\u001b[0m positional argument follows keyword argument\n"
     ]
    }
   ],
   "source": [
    "print(name, age, sep = ',', eyesight)"
   ]
  },
  {
   "cell_type": "markdown",
   "metadata": {},
   "source": [
    "## 키보드 입력"
   ]
  },
  {
   "cell_type": "code",
   "execution_count": 74,
   "metadata": {},
   "outputs": [
    {
     "name": "stdout",
     "output_type": "stream",
     "text": [
      "이름 입력 : 김영일\n"
     ]
    }
   ],
   "source": [
    "name = input('이름 입력 : ')"
   ]
  },
  {
   "cell_type": "code",
   "execution_count": 75,
   "metadata": {},
   "outputs": [
    {
     "name": "stdout",
     "output_type": "stream",
     "text": [
      "김영일님 반갑습니다.\n"
     ]
    }
   ],
   "source": [
    "print('%s님 반갑습니다.' % name)"
   ]
  },
  {
   "cell_type": "code",
   "execution_count": 76,
   "metadata": {},
   "outputs": [
    {
     "name": "stdout",
     "output_type": "stream",
     "text": [
      "첫번째 숫자 : 10\n",
      "두번째 숫자 : 20\n"
     ]
    }
   ],
   "source": [
    "first = input('첫번째 숫자 : ')\n",
    "second = input('두번째 숫자 : ')"
   ]
  },
  {
   "cell_type": "code",
   "execution_count": 77,
   "metadata": {},
   "outputs": [
    {
     "name": "stdout",
     "output_type": "stream",
     "text": [
      "1020\n"
     ]
    }
   ],
   "source": [
    "sum = first + second    # fitst와 second는 앞에서 문자열로 인식\n",
    "print(sum)"
   ]
  },
  {
   "cell_type": "code",
   "execution_count": 78,
   "metadata": {},
   "outputs": [
    {
     "name": "stdout",
     "output_type": "stream",
     "text": [
      "30\n"
     ]
    }
   ],
   "source": [
    "sum = int(first) + int(second)\n",
    "print(sum)"
   ]
  },
  {
   "cell_type": "code",
   "execution_count": 1,
   "metadata": {},
   "outputs": [
    {
     "name": "stdout",
     "output_type": "stream",
     "text": [
      "인치(inch)값 입력 : 30\n"
     ]
    }
   ],
   "source": [
    "inch = float(input('인치(inch)값 입력 : '))"
   ]
  },
  {
   "cell_type": "code",
   "execution_count": 3,
   "metadata": {},
   "outputs": [
    {
     "name": "stdout",
     "output_type": "stream",
     "text": [
      "Inch : 30.00 ==> Centimeter : 76.20\n"
     ]
    }
   ],
   "source": [
    "cm = inch * 2.54\n",
    "\n",
    "print('Inch : %.2f ==> Centimeter : %.2f' % (inch, cm))"
   ]
  },
  {
   "cell_type": "markdown",
   "metadata": {},
   "source": [
    "## 주석문(Comment)"
   ]
  },
  {
   "cell_type": "code",
   "execution_count": 4,
   "metadata": {},
   "outputs": [],
   "source": [
    "# 한줄짜리 주석문\n",
    "cm = inch * 2.54    # Inch ==> Centimeter 변환"
   ]
  },
  {
   "cell_type": "code",
   "execution_count": 5,
   "metadata": {},
   "outputs": [
    {
     "data": {
      "text/plain": [
       "'\\n이 사이에는 여러 줄의 주석문이 올 수 있습니다.\\n프로그램명 : 두 수 더하기\\n'"
      ]
     },
     "execution_count": 5,
     "metadata": {},
     "output_type": "execute_result"
    }
   ],
   "source": [
    "# 여러줄 주석문\n",
    "'''\n",
    "이 사이에는 여러 줄의 주석문이 올 수 있습니다.\n",
    "프로그램명 : 두 수 더하기\n",
    "'''"
   ]
  },
  {
   "cell_type": "markdown",
   "metadata": {},
   "source": [
    "### 연습문제"
   ]
  },
  {
   "cell_type": "code",
   "execution_count": 6,
   "metadata": {},
   "outputs": [
    {
     "name": "stdout",
     "output_type": "stream",
     "text": [
      "삼각형의 밑변 길이 :  10\n",
      "삼각형의 높이 :  3\n",
      "삼각형의 면적 :  15.0\n"
     ]
    }
   ],
   "source": [
    "# 삼각형의 면적 구하기\n",
    "width = 10\n",
    "height = 3\n",
    "area = width * height / 2\n",
    "print('삼각형의 밑변 길이 : ', width)\n",
    "print('삼각형의 높이 : ', height)\n",
    "print('삼각형의 면적 : ', area)"
   ]
  },
  {
   "cell_type": "code",
   "execution_count": 17,
   "metadata": {},
   "outputs": [
    {
     "name": "stdout",
     "output_type": "stream",
     "text": [
      "물건가격 :  800 원\n",
      "구매개수 :  3 개\n",
      "지불금액 :  5000 원\n",
      "거스름돈 :  2600 원\n"
     ]
    }
   ],
   "source": [
    "# 거스름돈 계산하기\n",
    "price = 800\n",
    "buy = 3\n",
    "pay = 5000\n",
    "change = pay - price * buy\n",
    "print('물건가격 : ',price,'원')\n",
    "print('구매개수 : ',buy,'개')\n",
    "print('지불금액 : ',pay,'원')\n",
    "print('거스름돈 : ',change,'원')"
   ]
  },
  {
   "cell_type": "code",
   "execution_count": 8,
   "metadata": {},
   "outputs": [
    {
     "name": "stdout",
     "output_type": "stream",
     "text": [
      "4\n",
      "4 -4\n"
     ]
    }
   ],
   "source": [
    "x = 20\n",
    "y = 4\n",
    "\n",
    "x = y % x\n",
    "print(x)\n",
    "\n",
    "y -= x * 2\n",
    "print(x, y)"
   ]
  },
  {
   "cell_type": "code",
   "execution_count": 15,
   "metadata": {},
   "outputs": [
    {
     "name": "stdout",
     "output_type": "stream",
     "text": [
      "성 : 홍\n",
      "이름 : 길동\n",
      "홍길동의 나이:30세, 키:171.50cm\n"
     ]
    }
   ],
   "source": [
    "# 문자열 추출과 문자열 포맷팅\n",
    "name = '홍길동'\n",
    "age = 30\n",
    "height = 171.5\n",
    "\n",
    "print('성 :',name[0])\n",
    "print('이름 :',name[1:])\n",
    "print('%s의 나이:%d세, 키:%.2fcm' % (name, age, height))"
   ]
  },
  {
   "cell_type": "code",
   "execution_count": 14,
   "metadata": {},
   "outputs": [
    {
     "name": "stdout",
     "output_type": "stream",
     "text": [
      "학생 이름 입력 : 황예린\n",
      "국어 성적 입력 : 83\n",
      "영어 성적 입력 : 85\n",
      "수학 성적 입력 : 91\n",
      "이름:황예린, 국어:83점, 영어:85점, 수학:91점, 평균:86.3점\n"
     ]
    }
   ],
   "source": [
    "# 성적 평균 구하기\n",
    "name = input('학생 이름 입력 : ')\n",
    "kor = int(input('국어 성적 입력 : '))\n",
    "eng = int(input('영어 성적 입력 : '))\n",
    "math = int(input('수학 성적 입력 : '))\n",
    "\n",
    "total = kor + eng + math\n",
    "avg = total / 3\n",
    "\n",
    "print('이름:%s, 국어:%d점, 영어:%d점, 수학:%d점, 평균:%.1f점' % (name, kor, eng, math, avg))"
   ]
  },
  {
   "cell_type": "code",
   "execution_count": null,
   "metadata": {},
   "outputs": [],
   "source": []
  }
 ],
 "metadata": {
  "kernelspec": {
   "display_name": "Python 3",
   "language": "python",
   "name": "python3"
  },
  "language_info": {
   "codemirror_mode": {
    "name": "ipython",
    "version": 3
   },
   "file_extension": ".py",
   "mimetype": "text/x-python",
   "name": "python",
   "nbconvert_exporter": "python",
   "pygments_lexer": "ipython3",
   "version": "3.8.3"
  }
 },
 "nbformat": 4,
 "nbformat_minor": 4
}
