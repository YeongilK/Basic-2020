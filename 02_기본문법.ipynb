{
 "cells": [
  {
   "cell_type": "markdown",
   "metadata": {},
   "source": [
    "# 파이썬의 기본 문법\n",
    "\n",
    "## 변수"
   ]
  },
  {
   "cell_type": "code",
   "execution_count": 1,
   "metadata": {},
   "outputs": [
    {
     "name": "stdout",
     "output_type": "stream",
     "text": [
      "50\n"
     ]
    }
   ],
   "source": [
    "# 두 수의 합 구하기\n",
    "a = 20\n",
    "b = 30\n",
    "c = a + b\n",
    "print(c)"
   ]
  },
  {
   "cell_type": "code",
   "execution_count": 2,
   "metadata": {},
   "outputs": [
    {
     "name": "stdout",
     "output_type": "stream",
     "text": [
      "50\n"
     ]
    }
   ],
   "source": [
    "#사각형 면적구하기(Camel-Java스타일)\n",
    "rectWidth = 10\n",
    "rectHeight = 5\n",
    "rectArea = rectWidth * rectHeight\n",
    "print(rectArea)"
   ]
  },
  {
   "cell_type": "code",
   "execution_count": 3,
   "metadata": {},
   "outputs": [
    {
     "name": "stdout",
     "output_type": "stream",
     "text": [
      "50\n"
     ]
    }
   ],
   "source": [
    "#사각형 면적구하기(Snake-Python스타일)\n",
    "rect_width = 10\n",
    "rect_height = 5\n",
    "rect_area = rect_width * rect_height\n",
    "print(rect_area)"
   ]
  },
  {
   "cell_type": "code",
   "execution_count": 4,
   "metadata": {},
   "outputs": [
    {
     "name": "stdout",
     "output_type": "stream",
     "text": [
      "30\n",
      "<class 'int'>\n",
      "3.3287 5.0\n",
      "<class 'float'> <class 'float'>\n"
     ]
    }
   ],
   "source": [
    "#정수형, 실수형\n",
    "x = 30\n",
    "print(30)\n",
    "print(type(x))\n",
    "\n",
    "y = 3.3287\n",
    "z = 15 / 3\n",
    "print(y, z)\n",
    "print(type(y), type(z))"
   ]
  },
  {
   "cell_type": "code",
   "execution_count": 6,
   "metadata": {},
   "outputs": [
    {
     "name": "stdout",
     "output_type": "stream",
     "text": [
      "72\n",
      "I am ok.\n",
      "안녕하세요!\n",
      "I'm ok.\n",
      "<class 'str'> <class 'str'> <class 'str'> <class 'str'>\n"
     ]
    }
   ],
   "source": [
    "#문자열\n",
    "a = '72'           # int형이 아닌 str형으로 인식\n",
    "b = 'I am ok.'\n",
    "c = \"안녕하세요!\"\n",
    "d = \"I'm ok.\" \n",
    "\n",
    "print(a)\n",
    "print(b)\n",
    "print(c)\n",
    "print(d)\n",
    "print(type(a), type(b), type(c), type(d))"
   ]
  },
  {
   "cell_type": "code",
   "execution_count": 8,
   "metadata": {},
   "outputs": [
    {
     "name": "stdout",
     "output_type": "stream",
     "text": [
      "I am Happy!\n",
      "I\n",
      "I a\n",
      "I am\n",
      "Happy!\n",
      "!\n",
      "py!\n",
      "pp\n"
     ]
    }
   ],
   "source": [
    "#문자열의 인덱스(공백도 하나의 인덱스로 취급!!)\n",
    "x = 'I am Happy!'\n",
    "\n",
    "print(x)          #문자열 전체 출력\n",
    "print(x[0])       #문자열의 첫번째 인덱스 출력\n",
    "print(x[0:3])     #첫번째 인덱스 ~ 3번째 앞 인덱스까지 출력\n",
    "print(x[:4])      #첫번째 인덱스 ~ 4번째 앞 인덱스까지 출력\n",
    "print(x[5:])      #5번째 인덱스 ~ 마지막 인덱스까지 출력\n",
    "print(x[-1])      #마지막 인덱스 출력\n",
    "print(x[-3:])     #끝에서 3번째 인덱스 ~ 마지막 인덱스까지 출력\n",
    "print(x[-4:-2])   #끝에서 4번째 인덱스 ~ 끝에서 2번째 앞 인덱스까지 출력"
   ]
  },
  {
   "cell_type": "code",
   "execution_count": 9,
   "metadata": {},
   "outputs": [
    {
     "name": "stdout",
     "output_type": "stream",
     "text": [
      "True False\n"
     ]
    }
   ],
   "source": [
    "#Boolean\n",
    "t = True\n",
    "f = False\n",
    "print(t, f)"
   ]
  },
  {
   "cell_type": "code",
   "execution_count": 10,
   "metadata": {},
   "outputs": [
    {
     "data": {
      "text/plain": [
       "False"
      ]
     },
     "execution_count": 10,
     "metadata": {},
     "output_type": "execute_result"
    }
   ],
   "source": [
    "condition = 10 > 20\n",
    "condition"
   ]
  },
  {
   "cell_type": "code",
   "execution_count": 11,
   "metadata": {},
   "outputs": [
    {
     "data": {
      "text/plain": [
       "bool"
      ]
     },
     "execution_count": 11,
     "metadata": {},
     "output_type": "execute_result"
    }
   ],
   "source": [
    "type(condition)"
   ]
  },
  {
   "cell_type": "markdown",
   "metadata": {},
   "source": [
    "## 산술 연산자"
   ]
  },
  {
   "cell_type": "code",
   "execution_count": 12,
   "metadata": {},
   "outputs": [
    {
     "name": "stdout",
     "output_type": "stream",
     "text": [
      "209.0\n"
     ]
    }
   ],
   "source": [
    "#사칙연산\n",
    "a = 10\n",
    "b = 20\n",
    "c = a + b * 10 - 5 / 5\n",
    "print(c)"
   ]
  },
  {
   "cell_type": "code",
   "execution_count": 15,
   "metadata": {},
   "outputs": [
    {
     "name": "stdout",
     "output_type": "stream",
     "text": [
      "1 2\n"
     ]
    }
   ],
   "source": [
    "#몫과 나머지\n",
    "x = 10 % 3\n",
    "y = 7 // 3\n",
    "print(x, y)"
   ]
  },
  {
   "cell_type": "code",
   "execution_count": 14,
   "metadata": {},
   "outputs": [
    {
     "name": "stdout",
     "output_type": "stream",
     "text": [
      "8 10000\n"
     ]
    }
   ],
   "source": [
    "#거듭제곱 연산자\n",
    "x = 2 ** 3\n",
    "y = 10 ** 4\n",
    "print(x, y)"
   ]
  },
  {
   "cell_type": "code",
   "execution_count": null,
   "metadata": {},
   "outputs": [],
   "source": []
  }
 ],
 "metadata": {
  "kernelspec": {
   "display_name": "Python 3",
   "language": "python",
   "name": "python3"
  },
  "language_info": {
   "codemirror_mode": {
    "name": "ipython",
    "version": 3
   },
   "file_extension": ".py",
   "mimetype": "text/x-python",
   "name": "python",
   "nbconvert_exporter": "python",
   "pygments_lexer": "ipython3",
   "version": "3.8.3"
  }
 },
 "nbformat": 4,
 "nbformat_minor": 4
}
