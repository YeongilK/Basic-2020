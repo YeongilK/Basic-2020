{
 "cells": [
  {
   "cell_type": "markdown",
   "metadata": {},
   "source": [
    "# Unit 16. for 반복문"
   ]
  },
  {
   "cell_type": "code",
   "execution_count": 1,
   "metadata": {},
   "outputs": [
    {
     "name": "stdout",
     "output_type": "stream",
     "text": [
      "Hello world\n",
      "Hello world\n",
      "Hello world\n",
      "Hello world\n",
      "Hello world\n"
     ]
    }
   ],
   "source": [
    "for i in range(5):\n",
    "    print('Hello world')"
   ]
  },
  {
   "cell_type": "code",
   "execution_count": 2,
   "metadata": {},
   "outputs": [
    {
     "name": "stdout",
     "output_type": "stream",
     "text": [
      "Hello world 0\n",
      "Hello world 1\n",
      "Hello world 2\n",
      "Hello world 3\n",
      "Hello world 4\n"
     ]
    }
   ],
   "source": [
    "for i in range(5):\n",
    "    print('Hello world', i)"
   ]
  },
  {
   "cell_type": "code",
   "execution_count": 3,
   "metadata": {},
   "outputs": [
    {
     "name": "stdout",
     "output_type": "stream",
     "text": [
      "2500\n"
     ]
    }
   ],
   "source": [
    "sum = 0\n",
    "for i in range(1, 100, 2):\n",
    "    sum += i\n",
    "print(sum)"
   ]
  },
  {
   "cell_type": "code",
   "execution_count": 4,
   "metadata": {},
   "outputs": [
    {
     "name": "stdout",
     "output_type": "stream",
     "text": [
      "Hello world! 5\n",
      "Hello world! 4\n",
      "Hello world! 3\n",
      "Hello world! 2\n",
      "Hello world! 1\n"
     ]
    }
   ],
   "source": [
    "for i in range(5, 0, -1):\n",
    "    print('Hello world!', i)"
   ]
  },
  {
   "cell_type": "code",
   "execution_count": 5,
   "metadata": {},
   "outputs": [
    {
     "name": "stdout",
     "output_type": "stream",
     "text": [
      "Hello world 4\n",
      "Hello world 3\n",
      "Hello world 2\n",
      "Hello world 1\n",
      "Hello world 0\n"
     ]
    }
   ],
   "source": [
    "for i in reversed(range(5)):\n",
    "    print('Hello world', i)"
   ]
  },
  {
   "cell_type": "code",
   "execution_count": 6,
   "metadata": {},
   "outputs": [
    {
     "name": "stdout",
     "output_type": "stream",
     "text": [
      "Hello world 1\n",
      "Hello world 2\n",
      "Hello world 3\n",
      "Hello world 4\n",
      "Hello world 5\n"
     ]
    }
   ],
   "source": [
    "for i in reversed(range(5, 0, -1)):\n",
    "    print('Hello world', i)"
   ]
  },
  {
   "cell_type": "code",
   "execution_count": 7,
   "metadata": {},
   "outputs": [
    {
     "ename": "SyntaxError",
     "evalue": "invalid syntax (<ipython-input-7-bcbc35e4a508>, line 2)",
     "output_type": "error",
     "traceback": [
      "\u001b[1;36m  File \u001b[1;32m\"<ipython-input-7-bcbc35e4a508>\"\u001b[1;36m, line \u001b[1;32m2\u001b[0m\n\u001b[1;33m    for i in reversed(range(1, 6):\u001b[0m\n\u001b[1;37m                                 ^\u001b[0m\n\u001b[1;31mSyntaxError\u001b[0m\u001b[1;31m:\u001b[0m invalid syntax\n"
     ]
    }
   ],
   "source": [
    "# range(5, 0, -1) == reversed(range(1, 6))\n",
    "for i in reversed(range(1, 6):\n",
    "    print('Hello world', i)"
   ]
  },
  {
   "cell_type": "code",
   "execution_count": 8,
   "metadata": {},
   "outputs": [
    {
     "name": "stdout",
     "output_type": "stream",
     "text": [
      "Hello world! 0\n",
      "Hello world! 1\n",
      "Hello world! 2\n",
      "Hello world! 3\n",
      "Hello world! 4\n"
     ]
    }
   ],
   "source": [
    "# 변수 i는 반복할 때마다 다음 값으로 덮어써지기 때문에 \n",
    "# 중간에 값을 할당해도 변수에 영향을 주지 못한다\n",
    "for i in range(5):\n",
    "    print('Hello world!', i)\n",
    "    i = 5;"
   ]
  },
  {
   "cell_type": "code",
   "execution_count": 9,
   "metadata": {},
   "outputs": [
    {
     "name": "stdout",
     "output_type": "stream",
     "text": [
      "반복할 횟수> 5\n",
      "Hello world! 0\n",
      "Hello world! 1\n",
      "Hello world! 2\n",
      "Hello world! 3\n",
      "Hello world! 4\n"
     ]
    }
   ],
   "source": [
    "loop = int(input('반복할 횟수> '))\n",
    "for i in range(loop):\n",
    "    print('Hello world!', i)"
   ]
  },
  {
   "cell_type": "markdown",
   "metadata": {},
   "source": [
    "### 시퀀스 객체로 반복하기"
   ]
  },
  {
   "cell_type": "code",
   "execution_count": 10,
   "metadata": {},
   "outputs": [
    {
     "name": "stdout",
     "output_type": "stream",
     "text": [
      "10  20  30  40  50  "
     ]
    }
   ],
   "source": [
    "a = [10, 20, 30, 40, 50]\n",
    "for element in a:\n",
    "    print(element, end='  ')"
   ]
  },
  {
   "cell_type": "code",
   "execution_count": 11,
   "metadata": {},
   "outputs": [
    {
     "name": "stdout",
     "output_type": "stream",
     "text": [
      "apple  orange  grape  "
     ]
    }
   ],
   "source": [
    "# 시퀀스 객체를 만들 때는 변수명을 복수로 받아야 나중에 반복문을 돌릴 때 편하다\n",
    "fruits = ('apple', 'orange', 'grape')\n",
    "for fruit in fruits:\n",
    "    print(fruit, end='  ')"
   ]
  },
  {
   "cell_type": "code",
   "execution_count": 12,
   "metadata": {},
   "outputs": [
    {
     "name": "stdout",
     "output_type": "stream",
     "text": [
      "P  y  t  h  o  n  "
     ]
    }
   ],
   "source": [
    "for letter in 'Python':\n",
    "    print(letter, end='  ')"
   ]
  },
  {
   "cell_type": "code",
   "execution_count": 13,
   "metadata": {},
   "outputs": [
    {
     "name": "stdout",
     "output_type": "stream",
     "text": [
      "n  o  h  t  y  P  "
     ]
    }
   ],
   "source": [
    "for letter in reversed('Python'):\n",
    "    print(letter, end='  ')"
   ]
  },
  {
   "cell_type": "markdown",
   "metadata": {},
   "source": [
    "### 심사 문제"
   ]
  },
  {
   "cell_type": "code",
   "execution_count": 14,
   "metadata": {
    "scrolled": true
   },
   "outputs": [
    {
     "name": "stdout",
     "output_type": "stream",
     "text": [
      "3\n",
      "3 * 1 = 3\n",
      "3 * 2 = 6\n",
      "3 * 3 = 9\n",
      "3 * 4 = 12\n",
      "3 * 5 = 15\n",
      "3 * 6 = 18\n",
      "3 * 7 = 21\n",
      "3 * 8 = 24\n",
      "3 * 9 = 27\n"
     ]
    }
   ],
   "source": [
    "# 표준 입력으로 받은 정수의 구구단 출력\n",
    "\n",
    "x = int(input())\n",
    "for i in range(1, 10):\n",
    "    print(x, '*', i, '=', x*i)"
   ]
  },
  {
   "cell_type": "code",
   "execution_count": null,
   "metadata": {},
   "outputs": [],
   "source": []
  }
 ],
 "metadata": {
  "kernelspec": {
   "display_name": "Python 3",
   "language": "python",
   "name": "python3"
  },
  "language_info": {
   "codemirror_mode": {
    "name": "ipython",
    "version": 3
   },
   "file_extension": ".py",
   "mimetype": "text/x-python",
   "name": "python",
   "nbconvert_exporter": "python",
   "pygments_lexer": "ipython3",
   "version": "3.8.3"
  }
 },
 "nbformat": 4,
 "nbformat_minor": 4
}
