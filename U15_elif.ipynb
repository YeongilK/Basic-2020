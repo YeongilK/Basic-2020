{
 "cells": [
  {
   "cell_type": "markdown",
   "metadata": {},
   "source": [
    "# Unit 15. elif 사용하기"
   ]
  },
  {
   "cell_type": "code",
   "execution_count": 1,
   "metadata": {},
   "outputs": [
    {
     "name": "stdout",
     "output_type": "stream",
     "text": [
      "17\n",
      "7950\n"
     ]
    }
   ],
   "source": [
    "# 만 나이에 따른 시내버스 요금 차감 후 잔액 출력\n",
    "# 어린이(초등학생, 만 7세 이상 12세 이하): 650원\n",
    "# 청소년(중∙고등학생, 만 13세 이상 18세 이하): 1,050원\n",
    "# 어른(일반, 만 19세 이상): 1,250원\n",
    "\n",
    "age = int(input())   # 만 나이 입력\n",
    "balance = 9000       # 교통카드 잔액\n",
    "if age >= 7 and age <= 12:\n",
    "    balance -= 650\n",
    "elif age >= 13 and age <= 18:\n",
    "    balance -= 1050\n",
    "else:\n",
    "    balance -= 1250\n",
    "print(balance)"
   ]
  },
  {
   "cell_type": "code",
   "execution_count": null,
   "metadata": {},
   "outputs": [],
   "source": []
  }
 ],
 "metadata": {
  "kernelspec": {
   "display_name": "Python 3",
   "language": "python",
   "name": "python3"
  },
  "language_info": {
   "codemirror_mode": {
    "name": "ipython",
    "version": 3
   },
   "file_extension": ".py",
   "mimetype": "text/x-python",
   "name": "python",
   "nbconvert_exporter": "python",
   "pygments_lexer": "ipython3",
   "version": "3.8.3"
  }
 },
 "nbformat": 4,
 "nbformat_minor": 4
}
