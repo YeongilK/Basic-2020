{
 "cells": [
  {
   "cell_type": "markdown",
   "metadata": {},
   "source": [
    "# Unit 14. else 사용하기"
   ]
  },
  {
   "cell_type": "markdown",
   "metadata": {},
   "source": [
    "### 심사 문제"
   ]
  },
  {
   "cell_type": "code",
   "execution_count": 1,
   "metadata": {},
   "outputs": [
    {
     "name": "stdout",
     "output_type": "stream",
     "text": [
      "100 79 68 71\n",
      "불합격\n"
     ]
    }
   ],
   "source": [
    "# 표준 입력으로 4과목의 점수를 입력받은 후\n",
    "# 평균 점수가 80점 이상이면 합격, 아니면 불합격 출력\n",
    "# 단, 각 점수는 0이상 100이하 여야 하고 아니면 '잘못된 점수' 문구 출력\n",
    "\n",
    "a, b, c, d = map(int, input().split())\n",
    "if a < 0 or a > 100 or b < 0 or b > 100 or c < 0 or c > 100 or d < 0 or d > 100:\n",
    "    print('잘못된 점수')\n",
    "else:\n",
    "    if (a + b + c + d) / 4 >= 80:\n",
    "        print('합격')\n",
    "    else:\n",
    "        print('불합격')"
   ]
  },
  {
   "cell_type": "code",
   "execution_count": null,
   "metadata": {},
   "outputs": [],
   "source": []
  }
 ],
 "metadata": {
  "kernelspec": {
   "display_name": "Python 3",
   "language": "python",
   "name": "python3"
  },
  "language_info": {
   "codemirror_mode": {
    "name": "ipython",
    "version": 3
   },
   "file_extension": ".py",
   "mimetype": "text/x-python",
   "name": "python",
   "nbconvert_exporter": "python",
   "pygments_lexer": "ipython3",
   "version": "3.8.3"
  }
 },
 "nbformat": 4,
 "nbformat_minor": 4
}
